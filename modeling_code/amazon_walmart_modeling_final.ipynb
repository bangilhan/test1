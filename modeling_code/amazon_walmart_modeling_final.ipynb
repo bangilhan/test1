{
 "cells": [
  {
   "cell_type": "code",
   "execution_count": 97,
   "metadata": {},
   "outputs": [],
   "source": [
    "import pandas as pd\n",
    "import numpy as np\n",
    "import matplotlib.pyplot as plt\n",
    "import seaborn as sns\n",
    "from tqdm import tqdm\n",
    "\n",
    "import nltk\n",
    "from nltk import word_tokenize\n",
    "from nltk.corpus import stopwords\n",
    "from  nltk.stem import SnowballStemmer\n",
    "from nltk.tokenize import RegexpTokenizer\n",
    "import re \n",
    "from bs4 import BeautifulSoup \n",
    "\n",
    "import gensim\n",
    "import multiprocessing\n",
    "from gensim.models import Word2Vec, word2vec\n",
    "from statistics import mean\n",
    "from collections import Counter\n",
    "import itertools\n",
    "\n",
    "from sklearn import preprocessing, decomposition, model_selection, metrics, pipeline\n",
    "from sklearn.metrics import confusion_matrix, classification_report, roc_curve, auc, accuracy_score\n",
    "from sklearn.model_selection import train_test_split\n",
    "from sklearn.model_selection import GridSearchCV\n",
    "from sklearn.ensemble import RandomForestClassifier\n",
    "from sklearn.feature_extraction.text import TfidfVectorizer, CountVectorizer\n",
    "from sklearn.svm import SVC\n",
    "from sklearn.decomposition import TruncatedSVD\n",
    "from sklearn.linear_model import LogisticRegression\n",
    "from sklearn.naive_bayes import MultinomialNB\n",
    "import xgboost as xgb\n",
    "from keras.utils import np_utils\n",
    "from keras.preprocessing import sequence, text\n",
    "from keras.models import Sequential\n",
    "from keras.layers.recurrent import LSTM, GRU\n",
    "from keras.layers.core import Dense, Activation, Dropout\n",
    "from keras.layers.embeddings import Embedding\n",
    "from keras.layers.normalization import BatchNormalization\n",
    "from keras.layers import GlobalMaxPooling1D, Conv1D, MaxPooling1D, Flatten, Bidirectional, SpatialDropout1D\n",
    "from keras.callbacks import EarlyStopping"
   ]
  },
  {
   "cell_type": "code",
   "execution_count": 98,
   "metadata": {},
   "outputs": [],
   "source": [
    "amazon = pd.read_csv('amazon_comment_seaweed_chip_result.csv')\n",
    "amazon = amazon.drop(amazon.columns[0], axis = 1)\n",
    "walmart = pd.read_csv('walmart.csv') \n",
    "youtube_1 = pd.read_excel('youtube_script1.xlsx')\n",
    "youtube_1 = youtube_1.drop(youtube_1.columns[0], axis = 1)\n",
    "youtube_2 = pd.read_excel('youtube_script2.xlsx')\n",
    "youtube_2 = youtube_2.drop(youtube_2.columns[0], axis = 1)"
   ]
  },
  {
   "cell_type": "code",
   "execution_count": 99,
   "metadata": {},
   "outputs": [],
   "source": [
    "def name_cut(x):\n",
    "    x = x.split('on ')[1]\n",
    "    return x  \n",
    "\n",
    "amazon[\"comment_date\"] = amazon[\"comment_date\"].apply(name_cut)\n",
    "\n",
    "def name_cut(x):\n",
    "    x = x.split(\" out\")[0]\n",
    "    x = float(x)\n",
    "    return x  \n",
    "\n",
    "amazon[\"star_rating\"] = amazon[\"star_rating\"].apply(name_cut)"
   ]
  },
  {
   "cell_type": "code",
   "execution_count": 100,
   "metadata": {},
   "outputs": [],
   "source": [
    "review = pd.concat([amazon['comment'], walmart['comment']], axis = 0) \n",
    "score = pd.concat([amazon['star_rating'], walmart['score']], axis = 0) \n",
    "author = pd.concat([amazon['comment_author'], walmart['author']], axis = 0)\n",
    "date = pd.concat([amazon['comment_date'], walmart['date']], axis = 0)\n",
    "title = pd.concat([amazon['comment_title'], walmart['title']], axis = 0)\n",
    "\n",
    "review = pd.DataFrame({'date': date, 'title' : title, 'review': review, 'score': score, 'author': author})"
   ]
  },
  {
   "cell_type": "code",
   "execution_count": 101,
   "metadata": {},
   "outputs": [],
   "source": [
    "stop_words = set(stopwords.words(\"english\"))\n",
    "stop_words.update((\"yum\", \"yummy\", \"love\", \"loves\", \"great\", \"good\", \"better\", \"amazing\", \"buying\", \"found\", \"get\", \"like\", \"loved\", 'maybe', 'may', 'could', 'awesome', \n",
    "                   'definitely', 'perfect' , 'best', 'okay', 'excellent', 'disappointed', 'right', 'nice', 'however', 'maybe', 'pretty', 'thank', 'wonderful', 'terrible', \n",
    "                   'unfortunately', 'awful', 'horrible', 'worst', 'wont', 'surprised', 'one', 'bad', 'actually', 'really', 'would',\n",
    "                    'everybody', 'sometime', 'state', 'generally', 'edge', 'report', 'gross'\n",
    "))\n",
    "stemmer = SnowballStemmer(\"english\")\n",
    "TEXT_CLEANING_RE = \"\\([^)]*\\|s\\b|@\\S+|https?:\\S+|http?:\\S|[^a-zA-Z]+\""
   ]
  },
  {
   "cell_type": "code",
   "execution_count": 102,
   "metadata": {},
   "outputs": [],
   "source": [
    "contraction_mapping = {\"won't\": \"will not\",  \"ain't\": \"is not\", \"aren't\": \"are not\",\"can't\": \"cannot\", \"'cause\": \"because\", \"could've\": \"could have\", \"couldn't\": \"could not\",\n",
    "\n",
    "                       \"didn't\": \"did not\", \"doesn't\": \"does not\", \"don't\": \"do not\", \"hadn't\": \"had not\", \"hasn't\": \"has not\", \"haven't\": \"have not\",\n",
    "\n",
    "                       \"he'd\": \"he would\",\"he'll\": \"he will\", \"he's\": \"he is\", \"how'd\": \"how did\", \"how'd'y\": \"how do you\", \"how'll\": \"how will\", \"how's\": \"how is\",\n",
    "\n",
    "                       \"I'd\": \"I would\", \"I'd've\": \"I would have\", \"I'll\": \"I will\", \"I'll've\": \"I will have\",\"I'm\": \"I am\", \"I've\": \"I have\", \"i'd\": \"i would\",\n",
    "\n",
    "                       \"i'd've\": \"i would have\", \"i'll\": \"i will\",  \"i'll've\": \"i will have\",\"i'm\": \"i am\", \"i've\": \"i have\", \"isn't\": \"is not\", \"it'd\": \"it would\",\n",
    "\n",
    "                       \"it'd've\": \"it would have\", \"it'll\": \"it will\", \"it'll've\": \"it will have\",\"it's\": \"it is\", \"let's\": \"let us\", \"ma'am\": \"madam\",\n",
    "\n",
    "                       \"mayn't\": \"may not\", \"might've\": \"might have\",\"mightn't\": \"might not\",\"mightn't've\": \"might not have\", \"must've\": \"must have\",\n",
    "\n",
    "                       \"mustn't\": \"must not\", \"mustn't've\": \"must not have\", \"needn't\": \"need not\", \"needn't've\": \"need not have\",\"o'clock\": \"of the clock\",\n",
    "\n",
    "                       \"oughtn't\": \"ought not\", \"oughtn't've\": \"ought not have\", \"shan't\": \"shall not\", \"sha'n't\": \"shall not\", \"shan't've\": \"shall not have\",\n",
    "\n",
    "                       \"she'd\": \"she would\", \"she'd've\": \"she would have\", \"she'll\": \"she will\", \"she'll've\": \"she will have\", \"she's\": \"she is\",\n",
    "\n",
    "                       \"should've\": \"should have\", \"shouldn't\": \"should not\", \"shouldn't've\": \"should not have\", \"so've\": \"so have\",\"so's\": \"so as\",\n",
    "\n",
    "                       \"this's\": \"this is\",\"that'd\": \"that would\", \"that'd've\": \"that would have\", \"that's\": \"that is\", \"there'd\": \"there would\",\n",
    "\n",
    "                       \"there'd've\": \"there would have\", \"there's\": \"there is\", \"here's\": \"here is\",\"they'd\": \"they would\", \"they'd've\": \"they would have\",\n",
    "\n",
    "                       \"they'll\": \"they will\", \"they'll've\": \"they will have\", \"they're\": \"they are\", \"they've\": \"they have\", \"to've\": \"to have\",\n",
    "\n",
    "                       \"wasn't\": \"was not\", \"we'd\": \"we would\", \"we'd've\": \"we would have\", \"we'll\": \"we will\", \"we'll've\": \"we will have\", \"we're\": \"we are\",\n",
    "\n",
    "                       \"we've\": \"we have\", \"weren't\": \"were not\", \"what'll\": \"what will\", \"what'll've\": \"what will have\", \"what're\": \"what are\",\n",
    "\n",
    "                       \"what's\": \"what is\", \"what've\": \"what have\", \"when's\": \"when is\", \"when've\": \"when have\", \"where'd\": \"where did\", \"where's\": \"where is\",\n",
    "\n",
    "                       \"where've\": \"where have\", \"who'll\": \"who will\", \"who'll've\": \"who will have\", \"who's\": \"who is\", \"who've\": \"who have\",\n",
    "\n",
    "                       \"why's\": \"why is\", \"why've\": \"why have\", \"will've\": \"will have\", \"won't\": \"will not\", \"won't've\": \"will not have\",\n",
    "\n",
    "                       \"would've\": \"would have\", \"wouldn't\": \"would not\", \"wouldn't've\": \"would not have\", \"y'all\": \"you all\",\n",
    "\n",
    "                       \"y'all'd\": \"you all would\",\"y'all'd've\": \"you all would have\",\"y'all're\": \"you all are\",\"y'all've\": \"you all have\",\n",
    "\n",
    "                       \"you'd\": \"you would\", \"you'd've\": \"you would have\", \"you'll\": \"you will\", \"you'll've\": \"you will have\",\n",
    "\n",
    "                       \"you're\": \"you are\", \"you've\": \"you have\"}"
   ]
  },
  {
   "cell_type": "code",
   "execution_count": 103,
   "metadata": {},
   "outputs": [],
   "source": [
    "def preprocess(text, stem=False):\n",
    "    newString = re.sub(TEXT_CLEANING_RE, ' ', str(text).lower()).strip()\n",
    "    newString = ' '.join([contraction_mapping[t] if t in contraction_mapping else t for t in newString.split(\" \")])  \n",
    "\n",
    "    tokens = []\n",
    "    for token in newString.split():\n",
    "        if token not in stop_words:\n",
    "            if stem:\n",
    "                tokens.append(stemmer.stem(token))\n",
    "            else:\n",
    "                tokens.append(token)\n",
    "    return \", \".join(tokens)"
   ]
  },
  {
   "cell_type": "code",
   "execution_count": 104,
   "metadata": {},
   "outputs": [],
   "source": [
    "review['cleaned_review'] = review['review'].apply(lambda x: preprocess(x))"
   ]
  },
  {
   "cell_type": "code",
   "execution_count": 105,
   "metadata": {},
   "outputs": [
    {
     "data": {
      "text/plain": [
       "date              0\n",
       "title             1\n",
       "review            1\n",
       "score             0\n",
       "author            1\n",
       "cleaned_review    0\n",
       "dtype: int64"
      ]
     },
     "execution_count": 105,
     "metadata": {},
     "output_type": "execute_result"
    }
   ],
   "source": [
    "review.isnull().sum()"
   ]
  },
  {
   "cell_type": "code",
   "execution_count": 106,
   "metadata": {},
   "outputs": [
    {
     "data": {
      "text/html": [
       "<div>\n",
       "<style scoped>\n",
       "    .dataframe tbody tr th:only-of-type {\n",
       "        vertical-align: middle;\n",
       "    }\n",
       "\n",
       "    .dataframe tbody tr th {\n",
       "        vertical-align: top;\n",
       "    }\n",
       "\n",
       "    .dataframe thead th {\n",
       "        text-align: right;\n",
       "    }\n",
       "</style>\n",
       "<table border=\"1\" class=\"dataframe\">\n",
       "  <thead>\n",
       "    <tr style=\"text-align: right;\">\n",
       "      <th></th>\n",
       "      <th>date</th>\n",
       "      <th>title</th>\n",
       "      <th>review</th>\n",
       "      <th>score</th>\n",
       "      <th>author</th>\n",
       "      <th>cleaned_review</th>\n",
       "    </tr>\n",
       "  </thead>\n",
       "  <tbody>\n",
       "    <tr>\n",
       "      <th>2127</th>\n",
       "      <td>June 4, 2018</td>\n",
       "      <td>The packaging sucks very disappointed</td>\n",
       "      <td>NaN</td>\n",
       "      <td>1.0</td>\n",
       "      <td>Sydney</td>\n",
       "      <td>nan</td>\n",
       "    </tr>\n",
       "  </tbody>\n",
       "</table>\n",
       "</div>"
      ],
      "text/plain": [
       "              date                                  title review  score  \\\n",
       "2127  June 4, 2018  The packaging sucks very disappointed    NaN    1.0   \n",
       "\n",
       "      author cleaned_review  \n",
       "2127  Sydney            nan  "
      ]
     },
     "execution_count": 106,
     "metadata": {},
     "output_type": "execute_result"
    }
   ],
   "source": [
    "review[review['review'].isnull()]"
   ]
  },
  {
   "cell_type": "code",
   "execution_count": 107,
   "metadata": {},
   "outputs": [],
   "source": [
    "review.replace(' ',np.nan , inplace = True)\n",
    "review.dropna(axis = 0 , inplace = True, subset = ['review'])"
   ]
  },
  {
   "cell_type": "code",
   "execution_count": 108,
   "metadata": {},
   "outputs": [],
   "source": [
    "df = review\n",
    "X = df['cleaned_review']\n",
    "y_dict = {1.0:0, 2.0:0, 3.0:1, 4.0:1, 5.0:1}\n",
    "y = df['score'].map(y_dict)"
   ]
  },
  {
   "cell_type": "code",
   "execution_count": 109,
   "metadata": {},
   "outputs": [],
   "source": [
    "x_train, x_test, y_train, y_test = train_test_split(X, y, \n",
    "                                                stratify=y, \n",
    "                                                random_state=42, \n",
    "                                                test_size=0.2, shuffle=True)"
   ]
  },
  {
   "cell_type": "code",
   "execution_count": 110,
   "metadata": {},
   "outputs": [
    {
     "name": "stdout",
     "output_type": "stream",
     "text": [
      "(4622,)\n",
      "(1156,)\n"
     ]
    }
   ],
   "source": [
    "print (x_train.shape)\n",
    "print (x_test.shape)"
   ]
  },
  {
   "cell_type": "markdown",
   "metadata": {},
   "source": [
    "# Building Basic Models"
   ]
  },
  {
   "cell_type": "code",
   "execution_count": 111,
   "metadata": {},
   "outputs": [],
   "source": [
    "def model_Evaluate(model, x_test):\n",
    "    \n",
    "    # Predict values for Test dataset\n",
    "    y_pred = model.predict(x_test)\n",
    "\n",
    "    # Print the evaluation metrics for the dataset.\n",
    "    print(model.score(x_test, y_test))\n",
    "    print(classification_report(y_test, y_pred))\n",
    "    \n",
    "    # Compute and plot the Confusion matrix\n",
    "    cf_matrix = confusion_matrix(y_test, y_pred)\n",
    "\n",
    "    categories  = ['Negative','Positive']\n",
    "    group_names = ['True Neg','False Pos', 'False Neg','True Pos']\n",
    "    group_percentages = ['{0:.2%}'.format(value) for value in cf_matrix.flatten() / np.sum(cf_matrix)]\n",
    "\n",
    "    labels = [f'{v1}\\n{v2}' for v1, v2 in zip(group_names,group_percentages)]\n",
    "    labels = np.asarray(labels).reshape(2,2)\n",
    "\n",
    "    sns.heatmap(cf_matrix, annot = labels, cmap = 'Blues',fmt = '',\n",
    "                xticklabels = categories, yticklabels = categories)\n",
    "\n",
    "    plt.xlabel(\"Predicted values\", fontdict = {'size':14}, labelpad = 10)\n",
    "    plt.ylabel(\"Actual values\"   , fontdict = {'size':14}, labelpad = 10)\n",
    "    plt.title (\"Confusion Matrix\", fontdict = {'size':18}, pad = 20)\n",
    "    \n",
    "prediction = dict()"
   ]
  },
  {
   "cell_type": "markdown",
   "metadata": {},
   "source": [
    "## CountVectorizer"
   ]
  },
  {
   "cell_type": "code",
   "execution_count": 112,
   "metadata": {},
   "outputs": [],
   "source": [
    "ctv = CountVectorizer(analyzer='word',token_pattern=r'\\w{1,}',\n",
    "            ngram_range=(1, 2))\n",
    "\n",
    "# Fitting Count Vectorizer to both training and test sets (semi-supervised learning)\n",
    "ctv.fit(list(x_train) + list(x_test))\n",
    "xtrain_ctv =  ctv.transform(x_train) \n",
    "xtest_ctv = ctv.transform(x_test)"
   ]
  },
  {
   "cell_type": "markdown",
   "metadata": {},
   "source": [
    "### - Logistic Regression"
   ]
  },
  {
   "cell_type": "code",
   "execution_count": 113,
   "metadata": {},
   "outputs": [
    {
     "name": "stdout",
     "output_type": "stream",
     "text": [
      "0.9039792387543253\n",
      "              precision    recall  f1-score   support\n",
      "\n",
      "           0       0.84      0.47      0.60       179\n",
      "           1       0.91      0.98      0.95       977\n",
      "\n",
      "    accuracy                           0.90      1156\n",
      "   macro avg       0.88      0.73      0.77      1156\n",
      "weighted avg       0.90      0.90      0.89      1156\n",
      "\n"
     ]
    },
    {
     "data": {
      "image/png": "[encoded data removed]",
      "text/plain": [
       "<Figure size 432x288 with 2 Axes>"
      ]
     },
     "metadata": {
      "needs_background": "light"
     },
     "output_type": "display_data"
    }
   ],
   "source": [
    "# Fitting a simple Logistic Regression on Counts\n",
    "clf = LogisticRegression(C=1.0)\n",
    "clf.fit(xtrain_ctv, y_train)\n",
    "\n",
    "prediction['Logistic'] = clf.predict(xtest_ctv)\n",
    "model_Evaluate(clf, xtest_ctv)"
   ]
  },
  {
   "cell_type": "markdown",
   "metadata": {},
   "source": [
    "## TfidVectorizer"
   ]
  },
  {
   "cell_type": "code",
   "execution_count": 114,
   "metadata": {},
   "outputs": [],
   "source": [
    "tfv = TfidfVectorizer(min_df=3,  max_features=None, \n",
    "            strip_accents='unicode', analyzer='word',\n",
    "            ngram_range=(1, 2), use_idf=1, smooth_idf=1, sublinear_tf=1)\n",
    "\n",
    "# Fitting TF-IDF to both training and test sets (semi-supervised learning)\n",
    "tfv.fit(list(x_train) + list(x_test))\n",
    "xtrain_tfv =  tfv.transform(x_train) \n",
    "xtest_tfv = tfv.transform(x_test)"
   ]
  },
  {
   "cell_type": "markdown",
   "metadata": {},
   "source": [
    "### - Logistic Regression"
   ]
  },
  {
   "cell_type": "code",
   "execution_count": 115,
   "metadata": {},
   "outputs": [
    {
     "name": "stdout",
     "output_type": "stream",
     "text": [
      "0.8823529411764706\n",
      "              precision    recall  f1-score   support\n",
      "\n",
      "           0       0.98      0.25      0.39       179\n",
      "           1       0.88      1.00      0.93       977\n",
      "\n",
      "    accuracy                           0.88      1156\n",
      "   macro avg       0.93      0.62      0.66      1156\n",
      "weighted avg       0.89      0.88      0.85      1156\n",
      "\n"
     ]
    },
    {
     "data": {
      "image/png": "[encoded data removed]",
      "text/plain": [
       "<Figure size 432x288 with 2 Axes>"
      ]
     },
     "metadata": {
      "needs_background": "light"
     },
     "output_type": "display_data"
    }
   ],
   "source": [
    "# Fitting a simple Logistic Regression on TFIDF\n",
    "clf = LogisticRegression(C=1.0)\n",
    "clf.fit(xtrain_tfv, y_train)\n",
    "\n",
    "prediction['Logistic_TFIDF'] = clf.predict(xtest_tfv)\n",
    "model_Evaluate(clf, xtest_tfv)"
   ]
  },
  {
   "cell_type": "markdown",
   "metadata": {},
   "source": [
    "### - Naive Bayes"
   ]
  },
  {
   "cell_type": "code",
   "execution_count": 116,
   "metadata": {},
   "outputs": [
    {
     "name": "stdout",
     "output_type": "stream",
     "text": [
      "0.893598615916955\n",
      "              precision    recall  f1-score   support\n",
      "\n",
      "           0       0.67      0.63      0.65       179\n",
      "           1       0.93      0.94      0.94       977\n",
      "\n",
      "    accuracy                           0.89      1156\n",
      "   macro avg       0.80      0.78      0.79      1156\n",
      "weighted avg       0.89      0.89      0.89      1156\n",
      "\n"
     ]
    },
    {
     "data": {
      "image/png": "[encoded data removed]",
      "text/plain": [
       "<Figure size 432x288 with 2 Axes>"
      ]
     },
     "metadata": {
      "needs_background": "light"
     },
     "output_type": "display_data"
    }
   ],
   "source": [
    "# Fitting a simple Naive Bayes on Counts\n",
    "clf = MultinomialNB()\n",
    "clf.fit(xtrain_ctv, y_train)\n",
    "\n",
    "prediction['Naive Bayes'] = clf.predict(xtest_ctv)\n",
    "model_Evaluate(clf, xtest_ctv)"
   ]
  },
  {
   "cell_type": "code",
   "execution_count": 117,
   "metadata": {},
   "outputs": [
    {
     "name": "stdout",
     "output_type": "stream",
     "text": [
      "0.8780276816608996\n",
      "              precision    recall  f1-score   support\n",
      "\n",
      "           0       1.00      0.21      0.35       179\n",
      "           1       0.87      1.00      0.93       977\n",
      "\n",
      "    accuracy                           0.88      1156\n",
      "   macro avg       0.94      0.61      0.64      1156\n",
      "weighted avg       0.89      0.88      0.84      1156\n",
      "\n"
     ]
    },
    {
     "data": {
      "image/png": "[encoded data removed]",
      "text/plain": [
       "<Figure size 432x288 with 2 Axes>"
      ]
     },
     "metadata": {
      "needs_background": "light"
     },
     "output_type": "display_data"
    }
   ],
   "source": [
    "# Fitting a simple Naive Bayes on TFIDF\n",
    "clf = MultinomialNB()\n",
    "clf.fit(xtrain_tfv, y_train)\n",
    "\n",
    "prediction['Naive Bayes_TFIDF'] = clf.predict(xtest_tfv)\n",
    "model_Evaluate(clf, xtest_tfv)"
   ]
  },
  {
   "cell_type": "markdown",
   "metadata": {},
   "source": [
    "### - SVM"
   ]
  },
  {
   "cell_type": "code",
   "execution_count": 118,
   "metadata": {},
   "outputs": [],
   "source": [
    "# Apply SVD, I chose 120 components. 120-200 components are good enough for SVM model.\n",
    "svd = decomposition.TruncatedSVD(n_components=120)\n",
    "svd.fit(xtrain_tfv)\n",
    "xtrain_svd = svd.transform(xtrain_tfv)\n",
    "xtest_svd = svd.transform(xtest_tfv)\n",
    "\n",
    "# Scale the data obtained from SVD. Renaming variable to reuse without scaling.\n",
    "scl = preprocessing.StandardScaler()\n",
    "scl.fit(xtrain_svd)\n",
    "xtrain_svd_scl = scl.transform(xtrain_svd)\n",
    "xtest_svd_scl = scl.transform(xtest_svd)"
   ]
  },
  {
   "cell_type": "code",
   "execution_count": 119,
   "metadata": {},
   "outputs": [
    {
     "name": "stdout",
     "output_type": "stream",
     "text": [
      "0.8849480968858131\n",
      "              precision    recall  f1-score   support\n",
      "\n",
      "           0       0.84      0.32      0.46       179\n",
      "           1       0.89      0.99      0.94       977\n",
      "\n",
      "    accuracy                           0.88      1156\n",
      "   macro avg       0.86      0.65      0.70      1156\n",
      "weighted avg       0.88      0.88      0.86      1156\n",
      "\n"
     ]
    },
    {
     "data": {
      "image/png": "[encoded data removed]",
      "text/plain": [
       "<Figure size 432x288 with 2 Axes>"
      ]
     },
     "metadata": {
      "needs_background": "light"
     },
     "output_type": "display_data"
    }
   ],
   "source": [
    "# Fitting a simple SVM\n",
    "clf = SVC(C=1.0, probability=True) # since we need probabilities\n",
    "clf.fit(xtrain_svd_scl, y_train)\n",
    "\n",
    "prediction['SVM_TFIDF'] = clf.predict(xtest_svd_scl)\n",
    "model_Evaluate(clf, xtest_svd_scl)"
   ]
  },
  {
   "cell_type": "markdown",
   "metadata": {},
   "source": [
    "### - xgboost"
   ]
  },
  {
   "cell_type": "code",
   "execution_count": 120,
   "metadata": {},
   "outputs": [
    {
     "name": "stdout",
     "output_type": "stream",
     "text": [
      "0.9013840830449827\n",
      "              precision    recall  f1-score   support\n",
      "\n",
      "           0       0.83      0.46      0.59       179\n",
      "           1       0.91      0.98      0.94       977\n",
      "\n",
      "    accuracy                           0.90      1156\n",
      "   macro avg       0.87      0.72      0.77      1156\n",
      "weighted avg       0.90      0.90      0.89      1156\n",
      "\n"
     ]
    },
    {
     "data": {
      "image/png": "[encoded data removed]",
      "text/plain": [
       "<Figure size 432x288 with 2 Axes>"
      ]
     },
     "metadata": {
      "needs_background": "light"
     },
     "output_type": "display_data"
    }
   ],
   "source": [
    "# Fitting a simple xgboost on Counts\n",
    "clf = xgb.XGBClassifier(max_depth=7, n_estimators=200, colsample_bytree=0.8, \n",
    "                        subsample=0.8, nthread=10, learning_rate=0.1)\n",
    "clf.fit(xtrain_ctv.tocsc(), y_train)\n",
    "\n",
    "prediction['XGboost'] = clf.predict(xtest_ctv.tocsc())\n",
    "model_Evaluate(clf, xtest_ctv.tocsc())"
   ]
  },
  {
   "cell_type": "code",
   "execution_count": 121,
   "metadata": {},
   "outputs": [
    {
     "name": "stdout",
     "output_type": "stream",
     "text": [
      "0.8996539792387543\n",
      "              precision    recall  f1-score   support\n",
      "\n",
      "           0       0.85      0.42      0.57       179\n",
      "           1       0.90      0.99      0.94       977\n",
      "\n",
      "    accuracy                           0.90      1156\n",
      "   macro avg       0.88      0.71      0.76      1156\n",
      "weighted avg       0.90      0.90      0.89      1156\n",
      "\n"
     ]
    },
    {
     "data": {
      "image/png": "[encoded data removed]",
      "text/plain": [
       "<Figure size 432x288 with 2 Axes>"
      ]
     },
     "metadata": {
      "needs_background": "light"
     },
     "output_type": "display_data"
    }
   ],
   "source": [
    "# Fitting a simple xgboost on tf-idf svd features\n",
    "clf = xgb.XGBClassifier(max_depth=7, n_estimators=200, colsample_bytree=0.8, \n",
    "                        subsample=0.8, nthread=10, learning_rate=0.1)\n",
    "clf.fit(xtrain_tfv.tocsc(), y_train)\n",
    "\n",
    "prediction['XGboost_TFIDF'] = clf.predict(xtest_tfv.tocsc())\n",
    "model_Evaluate(clf, xtest_tfv.tocsc())"
   ]
  },
  {
   "cell_type": "code",
   "execution_count": 75,
   "metadata": {},
   "outputs": [
    {
     "name": "stdout",
     "output_type": "stream",
     "text": [
      "0.8918685121107266\n",
      "              precision    recall  f1-score   support\n",
      "\n",
      "           0       0.78      0.42      0.55       179\n",
      "           1       0.90      0.98      0.94       977\n",
      "\n",
      "    accuracy                           0.89      1156\n",
      "   macro avg       0.84      0.70      0.74      1156\n",
      "weighted avg       0.88      0.89      0.88      1156\n",
      "\n"
     ]
    },
    {
     "data": {
      "image/png": "[encoded data removed]",
      "text/plain": [
       "<Figure size 432x288 with 2 Axes>"
      ]
     },
     "metadata": {
      "needs_background": "light"
     },
     "output_type": "display_data"
    }
   ],
   "source": [
    "# Fitting a simple xgboost on tf-idf svd features\n",
    "clf = xgb.XGBClassifier(max_depth=7, n_estimators=200, colsample_bytree=0.8, \n",
    "                        subsample=0.8, nthread=10, learning_rate=0.1)\n",
    "clf.fit(xtrain_svd, y_train)\n",
    "\n",
    "prediction['XGboost_TFIDF_SVD'] = clf.predict(xtest_svd)\n",
    "model_Evaluate(clf, xtest_svd)"
   ]
  },
  {
   "cell_type": "markdown",
   "metadata": {},
   "source": [
    "## glove"
   ]
  },
  {
   "cell_type": "code",
   "execution_count": 76,
   "metadata": {},
   "outputs": [
    {
     "name": "stderr",
     "output_type": "stream",
     "text": [
      "24616it [00:01, 12812.86it/s]"
     ]
    },
    {
     "name": "stdout",
     "output_type": "stream",
     "text": [
      "Found 24616 word vectors.\n"
     ]
    },
    {
     "name": "stderr",
     "output_type": "stream",
     "text": [
      "\n"
     ]
    }
   ],
   "source": [
    "embeddings_index = {}\n",
    "f = open('glove.840B.300d.txt')\n",
    "\n",
    "for line in tqdm(f):\n",
    "    values = line.split()\n",
    "    word = values[0]\n",
    "    coefs = np.asarray(values[1:], dtype='float32')\n",
    "    embeddings_index[word] = coefs\n",
    "f.close()\n",
    "\n",
    "print('Found %s word vectors.' % len(embeddings_index))"
   ]
  },
  {
   "cell_type": "code",
   "execution_count": 77,
   "metadata": {},
   "outputs": [],
   "source": [
    "def sent2vec(s):\n",
    "    words = str(s).lower().encode().decode('utf-8')\n",
    "    words = word_tokenize(words)\n",
    "    words = [w for w in words if not w in stop_words]\n",
    "    words = [w for w in words if w.isalpha()]\n",
    "    M = []\n",
    "    for w in words:\n",
    "        try:\n",
    "            M.append(embeddings_index[w])\n",
    "        except:\n",
    "            continue\n",
    "    M = np.array(M)\n",
    "    v = M.sum(axis=0)\n",
    "    if type(v) != np.ndarray:\n",
    "        return np.zeros(300)\n",
    "    return v / np.sqrt((v ** 2).sum())"
   ]
  },
  {
   "cell_type": "code",
   "execution_count": 78,
   "metadata": {},
   "outputs": [
    {
     "name": "stderr",
     "output_type": "stream",
     "text": [
      "100%|██████████| 4622/4622 [00:01<00:00, 3651.11it/s]\n",
      "100%|██████████| 1156/1156 [00:00<00:00, 3564.54it/s]\n"
     ]
    }
   ],
   "source": [
    "xtrain_glove = [sent2vec(x) for x in tqdm(x_train)]\n",
    "xvalid_glove = [sent2vec(x) for x in tqdm(x_test)]"
   ]
  },
  {
   "cell_type": "code",
   "execution_count": 79,
   "metadata": {},
   "outputs": [],
   "source": [
    "xtrain_glove = np.array(xtrain_glove)\n",
    "xvalid_glove = np.array(xvalid_glove)"
   ]
  },
  {
   "cell_type": "code",
   "execution_count": 80,
   "metadata": {},
   "outputs": [
    {
     "name": "stdout",
     "output_type": "stream",
     "text": [
      "0.884083044982699\n",
      "              precision    recall  f1-score   support\n",
      "\n",
      "           0       0.75      0.37      0.50       179\n",
      "           1       0.90      0.98      0.93       977\n",
      "\n",
      "    accuracy                           0.88      1156\n",
      "   macro avg       0.82      0.68      0.72      1156\n",
      "weighted avg       0.87      0.88      0.87      1156\n",
      "\n"
     ]
    },
    {
     "data": {
      "image/png": "[encoded data removed]",
      "text/plain": [
       "<Figure size 432x288 with 2 Axes>"
      ]
     },
     "metadata": {
      "needs_background": "light"
     },
     "output_type": "display_data"
    }
   ],
   "source": [
    "clf = xgb.XGBClassifier(nthread=10, silent=False)\n",
    "clf.fit(xtrain_glove, y_train)\n",
    "\n",
    "prediction['XGboost_glove'] = clf.predict(xvalid_glove)\n",
    "model_Evaluate(clf, xvalid_glove)"
   ]
  },
  {
   "cell_type": "code",
   "execution_count": 81,
   "metadata": {},
   "outputs": [
    {
     "name": "stdout",
     "output_type": "stream",
     "text": [
      "0.8849480968858131\n",
      "              precision    recall  f1-score   support\n",
      "\n",
      "           0       0.79      0.35      0.49       179\n",
      "           1       0.89      0.98      0.94       977\n",
      "\n",
      "    accuracy                           0.88      1156\n",
      "   macro avg       0.84      0.67      0.71      1156\n",
      "weighted avg       0.88      0.88      0.87      1156\n",
      "\n"
     ]
    },
    {
     "data": {
      "image/png": "[encoded data removed]",
      "text/plain": [
       "<Figure size 432x288 with 2 Axes>"
      ]
     },
     "metadata": {
      "needs_background": "light"
     },
     "output_type": "display_data"
    }
   ],
   "source": [
    "# Fitting a simple xgboost on glove features\n",
    "clf = xgb.XGBClassifier(max_depth=7, n_estimators=200, colsample_bytree=0.8, \n",
    "                        subsample=0.8, nthread=10, learning_rate=0.1, silent=False)\n",
    "clf.fit(xtrain_glove, y_train)\n",
    "\n",
    "prediction['XGboost_glove'] = clf.predict(xvalid_glove)\n",
    "model_Evaluate(clf, xvalid_glove)"
   ]
  },
  {
   "cell_type": "markdown",
   "metadata": {},
   "source": [
    "## - Deep Learning"
   ]
  },
  {
   "cell_type": "code",
   "execution_count": 92,
   "metadata": {},
   "outputs": [],
   "source": [
    "# scale the data before any neural net:\n",
    "scl = preprocessing.StandardScaler()\n",
    "xtrain_glove_scl = scl.fit_transform(xtrain_glove)\n",
    "xvalid_glove_scl = scl.transform(xvalid_glove)"
   ]
  },
  {
   "cell_type": "code",
   "execution_count": 93,
   "metadata": {},
   "outputs": [],
   "source": [
    "# we need to binarize the labels for the neural net\n",
    "ytrain_enc = np_utils.to_categorical(y_train)\n",
    "yvalid_enc = np_utils.to_categorical(y_test)"
   ]
  },
  {
   "cell_type": "code",
   "execution_count": 94,
   "metadata": {},
   "outputs": [],
   "source": [
    "# create a simple 3 layer sequential neural net\n",
    "model = Sequential()\n",
    "\n",
    "model.add(Dense(300, input_dim=300, activation='relu'))\n",
    "model.add(Dropout(0.2))\n",
    "model.add(BatchNormalization())\n",
    "\n",
    "model.add(Dense(300, activation='relu'))\n",
    "model.add(Dropout(0.3))\n",
    "model.add(BatchNormalization())\n",
    "\n",
    "model.add(Dense(2))\n",
    "model.add(Activation('softmax'))\n",
    "\n",
    "# compile the model\n",
    "model.compile(loss='binary_crossentropy', optimizer='adam')"
   ]
  },
  {
   "cell_type": "code",
   "execution_count": 95,
   "metadata": {},
   "outputs": [
    {
     "name": "stdout",
     "output_type": "stream",
     "text": [
      "Epoch 1/5\n",
      "73/73 [==============================] - 0s 5ms/step - loss: 0.6245 - val_loss: 0.3653\n",
      "Epoch 2/5\n",
      "73/73 [==============================] - 0s 3ms/step - loss: 0.3711 - val_loss: 0.3081\n",
      "Epoch 3/5\n",
      "73/73 [==============================] - 0s 3ms/step - loss: 0.3047 - val_loss: 0.3181\n",
      "Epoch 4/5\n",
      "73/73 [==============================] - 0s 4ms/step - loss: 0.2716 - val_loss: 0.3069\n",
      "Epoch 5/5\n",
      "73/73 [==============================] - 0s 4ms/step - loss: 0.2454 - val_loss: 0.3506\n"
     ]
    },
    {
     "data": {
      "text/plain": [
       "<tensorflow.python.keras.callbacks.History at 0x7f264c7ae5b0>"
      ]
     },
     "execution_count": 95,
     "metadata": {},
     "output_type": "execute_result"
    }
   ],
   "source": [
    "model.fit(xtrain_glove_scl, y=ytrain_enc, batch_size=64, \n",
    "          epochs=5, verbose=1, \n",
    "          validation_data=(xvalid_glove_scl, yvalid_enc))"
   ]
  },
  {
   "cell_type": "markdown",
   "metadata": {},
   "source": [
    "### - LSTM"
   ]
  },
  {
   "cell_type": "code",
   "execution_count": 86,
   "metadata": {},
   "outputs": [],
   "source": [
    "# using keras tokenizer here\n",
    "token = text.Tokenizer(num_words=None)\n",
    "max_len = 70\n",
    "\n",
    "token.fit_on_texts(list(x_train) + list(x_test))\n",
    "xtrain_seq = token.texts_to_sequences(x_train)\n",
    "xvalid_seq = token.texts_to_sequences(x_test)\n",
    "\n",
    "# zero pad the sequences\n",
    "xtrain_pad = sequence.pad_sequences(xtrain_seq, maxlen=max_len)\n",
    "xvalid_pad = sequence.pad_sequences(xvalid_seq, maxlen=max_len)\n",
    "\n",
    "word_index = token.word_index"
   ]
  },
  {
   "cell_type": "code",
   "execution_count": 87,
   "metadata": {},
   "outputs": [
    {
     "name": "stderr",
     "output_type": "stream",
     "text": [
      "100%|██████████| 6184/6184 [00:00<00:00, 268813.81it/s]\n"
     ]
    }
   ],
   "source": [
    "# create an embedding matrix for the words we have in the dataset\n",
    "embedding_matrix = np.zeros((len(word_index) + 1, 300))\n",
    "for word, i in tqdm(word_index.items()):\n",
    "    embedding_vector = embeddings_index.get(word)\n",
    "    if embedding_vector is not None:\n",
    "        embedding_matrix[i] = embedding_vector"
   ]
  },
  {
   "cell_type": "code",
   "execution_count": 88,
   "metadata": {},
   "outputs": [
    {
     "name": "stdout",
     "output_type": "stream",
     "text": [
      "WARNING:tensorflow:Layer lstm will not use cuDNN kernel since it doesn't meet the cuDNN kernel criteria. It will use generic GPU kernel as fallback when running on GPU\n"
     ]
    }
   ],
   "source": [
    "# A simple LSTM with glove embeddings and two dense layers\n",
    "model = Sequential()\n",
    "model.add(Embedding(len(word_index) + 1,\n",
    "                     300,\n",
    "                     weights=[embedding_matrix],\n",
    "                     input_length=max_len,\n",
    "                     trainable=False))\n",
    "model.add(SpatialDropout1D(0.3))\n",
    "model.add(LSTM(100, dropout=0.3, recurrent_dropout=0.3))\n",
    "\n",
    "model.add(Dense(1024, activation='relu'))\n",
    "model.add(Dropout(0.8))\n",
    "\n",
    "model.add(Dense(1024, activation='relu'))\n",
    "model.add(Dropout(0.8))\n",
    "\n",
    "model.add(Dense(2))\n",
    "model.add(Activation('softmax'))\n",
    "model.compile(loss='binary_crossentropy', optimizer='adam')"
   ]
  },
  {
   "cell_type": "code",
   "execution_count": 89,
   "metadata": {},
   "outputs": [
    {
     "name": "stdout",
     "output_type": "stream",
     "text": [
      "Epoch 1/100\n",
      "10/10 [==============================] - 2s 216ms/step - loss: 0.5134 - val_loss: 0.4529\n",
      "Epoch 2/100\n",
      "10/10 [==============================] - 2s 210ms/step - loss: 0.4358 - val_loss: 0.4005\n",
      "Epoch 3/100\n",
      "10/10 [==============================] - 2s 197ms/step - loss: 0.4132 - val_loss: 0.3881\n",
      "Epoch 4/100\n",
      "10/10 [==============================] - 2s 197ms/step - loss: 0.3876 - val_loss: 0.3582\n",
      "Epoch 5/100\n",
      "10/10 [==============================] - 2s 190ms/step - loss: 0.3605 - val_loss: 0.3548\n",
      "Epoch 6/100\n",
      "10/10 [==============================] - 2s 191ms/step - loss: 0.3597 - val_loss: 0.3600\n",
      "Epoch 7/100\n",
      "10/10 [==============================] - 2s 192ms/step - loss: 0.3551 - val_loss: 0.3510\n",
      "Epoch 8/100\n",
      "10/10 [==============================] - 2s 194ms/step - loss: 0.3492 - val_loss: 0.3321\n",
      "Epoch 9/100\n",
      "10/10 [==============================] - 2s 188ms/step - loss: 0.3365 - val_loss: 0.3210\n",
      "Epoch 10/100\n",
      "10/10 [==============================] - 2s 188ms/step - loss: 0.3329 - val_loss: 0.3120\n",
      "Epoch 11/100\n",
      "10/10 [==============================] - 2s 197ms/step - loss: 0.3309 - val_loss: 0.3034\n",
      "Epoch 12/100\n",
      "10/10 [==============================] - 2s 193ms/step - loss: 0.3225 - val_loss: 0.3264\n",
      "Epoch 13/100\n",
      "10/10 [==============================] - 2s 207ms/step - loss: 0.3261 - val_loss: 0.3091\n",
      "Epoch 14/100\n",
      "10/10 [==============================] - 2s 201ms/step - loss: 0.3155 - val_loss: 0.3077\n",
      "Epoch 15/100\n",
      "10/10 [==============================] - 2s 190ms/step - loss: 0.3251 - val_loss: 0.3170\n",
      "Epoch 16/100\n",
      "10/10 [==============================] - 2s 197ms/step - loss: 0.3185 - val_loss: 0.2966\n",
      "Epoch 17/100\n",
      "10/10 [==============================] - 2s 194ms/step - loss: 0.3108 - val_loss: 0.2944\n",
      "Epoch 18/100\n",
      "10/10 [==============================] - 2s 189ms/step - loss: 0.3098 - val_loss: 0.2972\n",
      "Epoch 19/100\n",
      "10/10 [==============================] - 2s 185ms/step - loss: 0.3088 - val_loss: 0.2992\n",
      "Epoch 20/100\n",
      "10/10 [==============================] - 2s 201ms/step - loss: 0.3135 - val_loss: 0.2939\n",
      "Epoch 21/100\n",
      "10/10 [==============================] - 2s 192ms/step - loss: 0.3035 - val_loss: 0.2959\n",
      "Epoch 22/100\n",
      "10/10 [==============================] - 2s 192ms/step - loss: 0.3023 - val_loss: 0.2910\n",
      "Epoch 23/100\n",
      "10/10 [==============================] - 2s 188ms/step - loss: 0.3019 - val_loss: 0.2945\n",
      "Epoch 24/100\n",
      "10/10 [==============================] - 2s 191ms/step - loss: 0.2983 - val_loss: 0.2868\n",
      "Epoch 25/100\n",
      "10/10 [==============================] - 2s 195ms/step - loss: 0.2859 - val_loss: 0.2889\n",
      "Epoch 26/100\n",
      "10/10 [==============================] - 2s 201ms/step - loss: 0.2938 - val_loss: 0.2842\n",
      "Epoch 27/100\n",
      "10/10 [==============================] - 2s 201ms/step - loss: 0.2835 - val_loss: 0.2936\n",
      "Epoch 28/100\n",
      "10/10 [==============================] - 2s 202ms/step - loss: 0.2880 - val_loss: 0.2939\n",
      "Epoch 29/100\n",
      "10/10 [==============================] - 2s 198ms/step - loss: 0.2829 - val_loss: 0.2778\n",
      "Epoch 30/100\n",
      "10/10 [==============================] - 2s 192ms/step - loss: 0.2803 - val_loss: 0.2809\n",
      "Epoch 31/100\n",
      "10/10 [==============================] - 2s 196ms/step - loss: 0.2754 - val_loss: 0.2810\n",
      "Epoch 32/100\n",
      "10/10 [==============================] - 2s 196ms/step - loss: 0.2795 - val_loss: 0.2800\n",
      "Epoch 33/100\n",
      "10/10 [==============================] - 2s 192ms/step - loss: 0.2820 - val_loss: 0.2773\n",
      "Epoch 34/100\n",
      "10/10 [==============================] - 2s 192ms/step - loss: 0.2824 - val_loss: 0.2897\n",
      "Epoch 35/100\n",
      "10/10 [==============================] - 2s 191ms/step - loss: 0.2724 - val_loss: 0.2721\n",
      "Epoch 36/100\n",
      "10/10 [==============================] - 2s 199ms/step - loss: 0.2694 - val_loss: 0.2764\n",
      "Epoch 37/100\n",
      "10/10 [==============================] - 2s 197ms/step - loss: 0.2684 - val_loss: 0.2857\n",
      "Epoch 38/100\n",
      "10/10 [==============================] - 2s 190ms/step - loss: 0.2782 - val_loss: 0.2760\n",
      "Epoch 39/100\n",
      "10/10 [==============================] - 2s 200ms/step - loss: 0.2593 - val_loss: 0.2802\n",
      "Epoch 40/100\n",
      "10/10 [==============================] - 2s 199ms/step - loss: 0.2679 - val_loss: 0.2733\n",
      "Epoch 41/100\n",
      "10/10 [==============================] - 2s 201ms/step - loss: 0.2629 - val_loss: 0.2665\n",
      "Epoch 42/100\n",
      "10/10 [==============================] - 2s 193ms/step - loss: 0.2558 - val_loss: 0.2727\n",
      "Epoch 43/100\n",
      "10/10 [==============================] - 2s 199ms/step - loss: 0.2549 - val_loss: 0.2773\n",
      "Epoch 44/100\n",
      "10/10 [==============================] - 2s 196ms/step - loss: 0.2442 - val_loss: 0.2690\n",
      "Epoch 45/100\n",
      "10/10 [==============================] - 2s 200ms/step - loss: 0.2516 - val_loss: 0.2756\n",
      "Epoch 46/100\n",
      "10/10 [==============================] - 2s 201ms/step - loss: 0.2462 - val_loss: 0.2703\n",
      "Epoch 47/100\n",
      "10/10 [==============================] - 2s 195ms/step - loss: 0.2407 - val_loss: 0.2760\n",
      "Epoch 48/100\n",
      "10/10 [==============================] - 2s 208ms/step - loss: 0.2463 - val_loss: 0.2841\n",
      "Epoch 49/100\n",
      "10/10 [==============================] - 2s 198ms/step - loss: 0.2686 - val_loss: 0.2889\n",
      "Epoch 50/100\n",
      "10/10 [==============================] - 2s 194ms/step - loss: 0.2514 - val_loss: 0.2908\n",
      "Epoch 51/100\n",
      "10/10 [==============================] - 2s 197ms/step - loss: 0.2582 - val_loss: 0.2698\n",
      "Epoch 52/100\n",
      "10/10 [==============================] - 2s 198ms/step - loss: 0.2492 - val_loss: 0.2727\n",
      "Epoch 53/100\n",
      "10/10 [==============================] - 2s 197ms/step - loss: 0.2418 - val_loss: 0.2723\n",
      "Epoch 54/100\n",
      "10/10 [==============================] - 2s 196ms/step - loss: 0.2257 - val_loss: 0.2705\n",
      "Epoch 55/100\n",
      "10/10 [==============================] - 2s 187ms/step - loss: 0.2262 - val_loss: 0.2712\n",
      "Epoch 56/100\n",
      "10/10 [==============================] - 2s 196ms/step - loss: 0.2313 - val_loss: 0.2715\n",
      "Epoch 57/100\n",
      "10/10 [==============================] - 2s 194ms/step - loss: 0.2312 - val_loss: 0.2702\n",
      "Epoch 58/100\n",
      "10/10 [==============================] - 2s 196ms/step - loss: 0.2345 - val_loss: 0.2713\n",
      "Epoch 59/100\n",
      "10/10 [==============================] - 2s 193ms/step - loss: 0.2214 - val_loss: 0.2685\n",
      "Epoch 60/100\n",
      "10/10 [==============================] - 2s 192ms/step - loss: 0.2247 - val_loss: 0.2719\n",
      "Epoch 61/100\n",
      "10/10 [==============================] - 2s 209ms/step - loss: 0.2287 - val_loss: 0.2638\n",
      "Epoch 62/100\n",
      "10/10 [==============================] - 2s 207ms/step - loss: 0.2233 - val_loss: 0.2768\n",
      "Epoch 63/100\n",
      "10/10 [==============================] - 2s 197ms/step - loss: 0.2228 - val_loss: 0.2719\n",
      "Epoch 64/100\n",
      "10/10 [==============================] - 2s 207ms/step - loss: 0.2231 - val_loss: 0.2818\n",
      "Epoch 65/100\n",
      "10/10 [==============================] - 2s 203ms/step - loss: 0.2206 - val_loss: 0.2829\n",
      "Epoch 66/100\n",
      "10/10 [==============================] - 2s 203ms/step - loss: 0.2196 - val_loss: 0.2773\n",
      "Epoch 67/100\n",
      "10/10 [==============================] - 2s 194ms/step - loss: 0.2139 - val_loss: 0.2773\n",
      "Epoch 68/100\n",
      "10/10 [==============================] - 2s 196ms/step - loss: 0.2133 - val_loss: 0.2749\n",
      "Epoch 69/100\n",
      "10/10 [==============================] - 2s 200ms/step - loss: 0.2127 - val_loss: 0.2859\n",
      "Epoch 70/100\n",
      "10/10 [==============================] - 2s 217ms/step - loss: 0.2073 - val_loss: 0.2790\n",
      "Epoch 71/100\n",
      "10/10 [==============================] - 2s 203ms/step - loss: 0.2068 - val_loss: 0.2933\n",
      "Epoch 72/100\n",
      "10/10 [==============================] - 2s 206ms/step - loss: 0.2042 - val_loss: 0.2796\n",
      "Epoch 73/100\n",
      "10/10 [==============================] - 2s 201ms/step - loss: 0.1975 - val_loss: 0.2819\n",
      "Epoch 74/100\n",
      "10/10 [==============================] - 2s 195ms/step - loss: 0.1908 - val_loss: 0.2921\n",
      "Epoch 75/100\n",
      "10/10 [==============================] - 2s 204ms/step - loss: 0.1789 - val_loss: 0.2995\n",
      "Epoch 76/100\n",
      "10/10 [==============================] - 2s 207ms/step - loss: 0.1926 - val_loss: 0.2957\n",
      "Epoch 77/100\n",
      "10/10 [==============================] - 2s 217ms/step - loss: 0.2335 - val_loss: 0.3225\n",
      "Epoch 78/100\n",
      "10/10 [==============================] - 2s 210ms/step - loss: 0.2176 - val_loss: 0.2795\n",
      "Epoch 79/100\n",
      "10/10 [==============================] - 2s 207ms/step - loss: 0.2035 - val_loss: 0.2780\n",
      "Epoch 80/100\n",
      "10/10 [==============================] - 2s 190ms/step - loss: 0.1944 - val_loss: 0.2859\n",
      "Epoch 81/100\n",
      "10/10 [==============================] - 2s 189ms/step - loss: 0.1772 - val_loss: 0.2882\n",
      "Epoch 82/100\n",
      "10/10 [==============================] - 2s 189ms/step - loss: 0.1816 - val_loss: 0.2908\n",
      "Epoch 83/100\n",
      "10/10 [==============================] - 2s 194ms/step - loss: 0.1728 - val_loss: 0.2919\n",
      "Epoch 84/100\n",
      "10/10 [==============================] - 2s 209ms/step - loss: 0.1654 - val_loss: 0.2987\n",
      "Epoch 85/100\n",
      "10/10 [==============================] - 2s 194ms/step - loss: 0.1746 - val_loss: 0.3088\n",
      "Epoch 86/100\n",
      "10/10 [==============================] - 2s 203ms/step - loss: 0.1706 - val_loss: 0.3665\n",
      "Epoch 87/100\n",
      "10/10 [==============================] - 2s 209ms/step - loss: 0.1860 - val_loss: 0.3175\n",
      "Epoch 88/100\n",
      "10/10 [==============================] - 2s 201ms/step - loss: 0.1678 - val_loss: 0.3208\n",
      "Epoch 89/100\n",
      "10/10 [==============================] - 2s 212ms/step - loss: 0.1625 - val_loss: 0.3126\n",
      "Epoch 90/100\n",
      "10/10 [==============================] - 2s 212ms/step - loss: 0.1665 - val_loss: 0.3305\n",
      "Epoch 91/100\n",
      "10/10 [==============================] - 2s 179ms/step - loss: 0.1650 - val_loss: 0.3183\n",
      "Epoch 92/100\n",
      "10/10 [==============================] - 2s 191ms/step - loss: 0.1753 - val_loss: 0.3364\n",
      "Epoch 93/100\n",
      "10/10 [==============================] - 2s 209ms/step - loss: 0.1889 - val_loss: 0.3109\n",
      "Epoch 94/100\n",
      "10/10 [==============================] - 2s 204ms/step - loss: 0.1637 - val_loss: 0.3074\n",
      "Epoch 95/100\n",
      "10/10 [==============================] - 2s 189ms/step - loss: 0.1557 - val_loss: 0.3260\n",
      "Epoch 96/100\n",
      "10/10 [==============================] - 2s 195ms/step - loss: 0.1685 - val_loss: 0.3584\n",
      "Epoch 97/100\n",
      "10/10 [==============================] - 2s 201ms/step - loss: 0.1699 - val_loss: 0.3160\n",
      "Epoch 98/100\n",
      "10/10 [==============================] - 2s 204ms/step - loss: 0.1699 - val_loss: 0.3064\n",
      "Epoch 99/100\n",
      "10/10 [==============================] - 2s 192ms/step - loss: 0.1676 - val_loss: 0.3390\n",
      "Epoch 100/100\n",
      "10/10 [==============================] - 2s 190ms/step - loss: 0.1795 - val_loss: 0.3030\n"
     ]
    },
    {
     "data": {
      "text/plain": [
       "<tensorflow.python.keras.callbacks.History at 0x7f26e0369bb0>"
      ]
     },
     "execution_count": 89,
     "metadata": {},
     "output_type": "execute_result"
    }
   ],
   "source": [
    "model.fit(xtrain_pad, y=ytrain_enc, batch_size=512, epochs=100, verbose=1, validation_data=(xvalid_pad, yvalid_enc))"
   ]
  },
  {
   "cell_type": "markdown",
   "metadata": {},
   "source": [
    "### - biLSTM"
   ]
  },
  {
   "cell_type": "code",
   "execution_count": 96,
   "metadata": {},
   "outputs": [
    {
     "name": "stdout",
     "output_type": "stream",
     "text": [
      "WARNING:tensorflow:Layer lstm_2 will not use cuDNN kernel since it doesn't meet the cuDNN kernel criteria. It will use generic GPU kernel as fallback when running on GPU\n",
      "WARNING:tensorflow:Layer lstm_2 will not use cuDNN kernel since it doesn't meet the cuDNN kernel criteria. It will use generic GPU kernel as fallback when running on GPU\n",
      "WARNING:tensorflow:Layer lstm_2 will not use cuDNN kernel since it doesn't meet the cuDNN kernel criteria. It will use generic GPU kernel as fallback when running on GPU\n",
      "Epoch 1/100\n"
     ]
    },
    {
     "ename": "ResourceExhaustedError",
     "evalue": " OOM when allocating tensor with shape[300,300] and type float on /job:localhost/replica:0/task:0/device:GPU:0 by allocator GPU_0_bfc\n\t [[{{node sequential_8/bidirectional_1/forward_lstm_2/while/body/_1/sequential_8/bidirectional_1/forward_lstm_2/while/lstm_cell_5/strided_slice}}]]\nHint: If you want to see a list of allocated tensors when OOM happens, add report_tensor_allocations_upon_oom to RunOptions for current allocation info.\n [Op:__inference_train_function_37296]\n\nFunction call stack:\ntrain_function\n",
     "output_type": "error",
     "traceback": [
      "\u001b[0;31m---------------------------------------------------------------------------\u001b[0m",
      "\u001b[0;31mResourceExhaustedError\u001b[0m                    Traceback (most recent call last)",
      "\u001b[0;32m<ipython-input-96-64831b2327f8>\u001b[0m in \u001b[0;36m<module>\u001b[0;34m\u001b[0m\n\u001b[1;32m     21\u001b[0m \u001b[0;31m# Fit the model with early stopping callback\u001b[0m\u001b[0;34m\u001b[0m\u001b[0;34m\u001b[0m\u001b[0;34m\u001b[0m\u001b[0m\n\u001b[1;32m     22\u001b[0m \u001b[0mearlystop\u001b[0m \u001b[0;34m=\u001b[0m \u001b[0mEarlyStopping\u001b[0m\u001b[0;34m(\u001b[0m\u001b[0mmonitor\u001b[0m\u001b[0;34m=\u001b[0m\u001b[0;34m'val_loss'\u001b[0m\u001b[0;34m,\u001b[0m \u001b[0mmin_delta\u001b[0m\u001b[0;34m=\u001b[0m\u001b[0;36m0\u001b[0m\u001b[0;34m,\u001b[0m \u001b[0mpatience\u001b[0m\u001b[0;34m=\u001b[0m\u001b[0;36m3\u001b[0m\u001b[0;34m,\u001b[0m \u001b[0mverbose\u001b[0m\u001b[0;34m=\u001b[0m\u001b[0;36m0\u001b[0m\u001b[0;34m,\u001b[0m \u001b[0mmode\u001b[0m\u001b[0;34m=\u001b[0m\u001b[0;34m'auto'\u001b[0m\u001b[0;34m)\u001b[0m\u001b[0;34m\u001b[0m\u001b[0;34m\u001b[0m\u001b[0m\n\u001b[0;32m---> 23\u001b[0;31m model.fit(xtrain_pad, y=ytrain_enc, batch_size=512, epochs=100, \n\u001b[0m\u001b[1;32m     24\u001b[0m           verbose=1, validation_data=(xvalid_pad, yvalid_enc), callbacks=[earlystop])\n",
      "\u001b[0;32m~/anaconda3/envs/kubig-venv/lib/python3.8/site-packages/tensorflow/python/keras/engine/training.py\u001b[0m in \u001b[0;36m_method_wrapper\u001b[0;34m(self, *args, **kwargs)\u001b[0m\n\u001b[1;32m    106\u001b[0m   \u001b[0;32mdef\u001b[0m \u001b[0m_method_wrapper\u001b[0m\u001b[0;34m(\u001b[0m\u001b[0mself\u001b[0m\u001b[0;34m,\u001b[0m \u001b[0;34m*\u001b[0m\u001b[0margs\u001b[0m\u001b[0;34m,\u001b[0m \u001b[0;34m**\u001b[0m\u001b[0mkwargs\u001b[0m\u001b[0;34m)\u001b[0m\u001b[0;34m:\u001b[0m\u001b[0;34m\u001b[0m\u001b[0;34m\u001b[0m\u001b[0m\n\u001b[1;32m    107\u001b[0m     \u001b[0;32mif\u001b[0m \u001b[0;32mnot\u001b[0m \u001b[0mself\u001b[0m\u001b[0;34m.\u001b[0m\u001b[0m_in_multi_worker_mode\u001b[0m\u001b[0;34m(\u001b[0m\u001b[0;34m)\u001b[0m\u001b[0;34m:\u001b[0m  \u001b[0;31m# pylint: disable=protected-access\u001b[0m\u001b[0;34m\u001b[0m\u001b[0;34m\u001b[0m\u001b[0m\n\u001b[0;32m--> 108\u001b[0;31m       \u001b[0;32mreturn\u001b[0m \u001b[0mmethod\u001b[0m\u001b[0;34m(\u001b[0m\u001b[0mself\u001b[0m\u001b[0;34m,\u001b[0m \u001b[0;34m*\u001b[0m\u001b[0margs\u001b[0m\u001b[0;34m,\u001b[0m \u001b[0;34m**\u001b[0m\u001b[0mkwargs\u001b[0m\u001b[0;34m)\u001b[0m\u001b[0;34m\u001b[0m\u001b[0;34m\u001b[0m\u001b[0m\n\u001b[0m\u001b[1;32m    109\u001b[0m \u001b[0;34m\u001b[0m\u001b[0m\n\u001b[1;32m    110\u001b[0m     \u001b[0;31m# Running inside `run_distribute_coordinator` already.\u001b[0m\u001b[0;34m\u001b[0m\u001b[0;34m\u001b[0m\u001b[0;34m\u001b[0m\u001b[0m\n",
      "\u001b[0;32m~/anaconda3/envs/kubig-venv/lib/python3.8/site-packages/tensorflow/python/keras/engine/training.py\u001b[0m in \u001b[0;36mfit\u001b[0;34m(self, x, y, batch_size, epochs, verbose, callbacks, validation_split, validation_data, shuffle, class_weight, sample_weight, initial_epoch, steps_per_epoch, validation_steps, validation_batch_size, validation_freq, max_queue_size, workers, use_multiprocessing)\u001b[0m\n\u001b[1;32m   1096\u001b[0m                 batch_size=batch_size):\n\u001b[1;32m   1097\u001b[0m               \u001b[0mcallbacks\u001b[0m\u001b[0;34m.\u001b[0m\u001b[0mon_train_batch_begin\u001b[0m\u001b[0;34m(\u001b[0m\u001b[0mstep\u001b[0m\u001b[0;34m)\u001b[0m\u001b[0;34m\u001b[0m\u001b[0;34m\u001b[0m\u001b[0m\n\u001b[0;32m-> 1098\u001b[0;31m               \u001b[0mtmp_logs\u001b[0m \u001b[0;34m=\u001b[0m \u001b[0mtrain_function\u001b[0m\u001b[0;34m(\u001b[0m\u001b[0miterator\u001b[0m\u001b[0;34m)\u001b[0m\u001b[0;34m\u001b[0m\u001b[0;34m\u001b[0m\u001b[0m\n\u001b[0m\u001b[1;32m   1099\u001b[0m               \u001b[0;32mif\u001b[0m \u001b[0mdata_handler\u001b[0m\u001b[0;34m.\u001b[0m\u001b[0mshould_sync\u001b[0m\u001b[0;34m:\u001b[0m\u001b[0;34m\u001b[0m\u001b[0;34m\u001b[0m\u001b[0m\n\u001b[1;32m   1100\u001b[0m                 \u001b[0mcontext\u001b[0m\u001b[0;34m.\u001b[0m\u001b[0masync_wait\u001b[0m\u001b[0;34m(\u001b[0m\u001b[0;34m)\u001b[0m\u001b[0;34m\u001b[0m\u001b[0;34m\u001b[0m\u001b[0m\n",
      "\u001b[0;32m~/anaconda3/envs/kubig-venv/lib/python3.8/site-packages/tensorflow/python/eager/def_function.py\u001b[0m in \u001b[0;36m__call__\u001b[0;34m(self, *args, **kwds)\u001b[0m\n\u001b[1;32m    778\u001b[0m       \u001b[0;32melse\u001b[0m\u001b[0;34m:\u001b[0m\u001b[0;34m\u001b[0m\u001b[0;34m\u001b[0m\u001b[0m\n\u001b[1;32m    779\u001b[0m         \u001b[0mcompiler\u001b[0m \u001b[0;34m=\u001b[0m \u001b[0;34m\"nonXla\"\u001b[0m\u001b[0;34m\u001b[0m\u001b[0;34m\u001b[0m\u001b[0m\n\u001b[0;32m--> 780\u001b[0;31m         \u001b[0mresult\u001b[0m \u001b[0;34m=\u001b[0m \u001b[0mself\u001b[0m\u001b[0;34m.\u001b[0m\u001b[0m_call\u001b[0m\u001b[0;34m(\u001b[0m\u001b[0;34m*\u001b[0m\u001b[0margs\u001b[0m\u001b[0;34m,\u001b[0m \u001b[0;34m**\u001b[0m\u001b[0mkwds\u001b[0m\u001b[0;34m)\u001b[0m\u001b[0;34m\u001b[0m\u001b[0;34m\u001b[0m\u001b[0m\n\u001b[0m\u001b[1;32m    781\u001b[0m \u001b[0;34m\u001b[0m\u001b[0m\n\u001b[1;32m    782\u001b[0m       \u001b[0mnew_tracing_count\u001b[0m \u001b[0;34m=\u001b[0m \u001b[0mself\u001b[0m\u001b[0;34m.\u001b[0m\u001b[0m_get_tracing_count\u001b[0m\u001b[0;34m(\u001b[0m\u001b[0;34m)\u001b[0m\u001b[0;34m\u001b[0m\u001b[0;34m\u001b[0m\u001b[0m\n",
      "\u001b[0;32m~/anaconda3/envs/kubig-venv/lib/python3.8/site-packages/tensorflow/python/eager/def_function.py\u001b[0m in \u001b[0;36m_call\u001b[0;34m(self, *args, **kwds)\u001b[0m\n\u001b[1;32m    838\u001b[0m         \u001b[0;31m# Lifting succeeded, so variables are initialized and we can run the\u001b[0m\u001b[0;34m\u001b[0m\u001b[0;34m\u001b[0m\u001b[0;34m\u001b[0m\u001b[0m\n\u001b[1;32m    839\u001b[0m         \u001b[0;31m# stateless function.\u001b[0m\u001b[0;34m\u001b[0m\u001b[0;34m\u001b[0m\u001b[0;34m\u001b[0m\u001b[0m\n\u001b[0;32m--> 840\u001b[0;31m         \u001b[0;32mreturn\u001b[0m \u001b[0mself\u001b[0m\u001b[0;34m.\u001b[0m\u001b[0m_stateless_fn\u001b[0m\u001b[0;34m(\u001b[0m\u001b[0;34m*\u001b[0m\u001b[0margs\u001b[0m\u001b[0;34m,\u001b[0m \u001b[0;34m**\u001b[0m\u001b[0mkwds\u001b[0m\u001b[0;34m)\u001b[0m\u001b[0;34m\u001b[0m\u001b[0;34m\u001b[0m\u001b[0m\n\u001b[0m\u001b[1;32m    841\u001b[0m     \u001b[0;32melse\u001b[0m\u001b[0;34m:\u001b[0m\u001b[0;34m\u001b[0m\u001b[0;34m\u001b[0m\u001b[0m\n\u001b[1;32m    842\u001b[0m       \u001b[0mcanon_args\u001b[0m\u001b[0;34m,\u001b[0m \u001b[0mcanon_kwds\u001b[0m \u001b[0;34m=\u001b[0m\u001b[0;31m \u001b[0m\u001b[0;31m\\\u001b[0m\u001b[0;34m\u001b[0m\u001b[0;34m\u001b[0m\u001b[0m\n",
      "\u001b[0;32m~/anaconda3/envs/kubig-venv/lib/python3.8/site-packages/tensorflow/python/eager/function.py\u001b[0m in \u001b[0;36m__call__\u001b[0;34m(self, *args, **kwargs)\u001b[0m\n\u001b[1;32m   2827\u001b[0m     \u001b[0;32mwith\u001b[0m \u001b[0mself\u001b[0m\u001b[0;34m.\u001b[0m\u001b[0m_lock\u001b[0m\u001b[0;34m:\u001b[0m\u001b[0;34m\u001b[0m\u001b[0;34m\u001b[0m\u001b[0m\n\u001b[1;32m   2828\u001b[0m       \u001b[0mgraph_function\u001b[0m\u001b[0;34m,\u001b[0m \u001b[0margs\u001b[0m\u001b[0;34m,\u001b[0m \u001b[0mkwargs\u001b[0m \u001b[0;34m=\u001b[0m \u001b[0mself\u001b[0m\u001b[0;34m.\u001b[0m\u001b[0m_maybe_define_function\u001b[0m\u001b[0;34m(\u001b[0m\u001b[0margs\u001b[0m\u001b[0;34m,\u001b[0m \u001b[0mkwargs\u001b[0m\u001b[0;34m)\u001b[0m\u001b[0;34m\u001b[0m\u001b[0;34m\u001b[0m\u001b[0m\n\u001b[0;32m-> 2829\u001b[0;31m     \u001b[0;32mreturn\u001b[0m \u001b[0mgraph_function\u001b[0m\u001b[0;34m.\u001b[0m\u001b[0m_filtered_call\u001b[0m\u001b[0;34m(\u001b[0m\u001b[0margs\u001b[0m\u001b[0;34m,\u001b[0m \u001b[0mkwargs\u001b[0m\u001b[0;34m)\u001b[0m  \u001b[0;31m# pylint: disable=protected-access\u001b[0m\u001b[0;34m\u001b[0m\u001b[0;34m\u001b[0m\u001b[0m\n\u001b[0m\u001b[1;32m   2830\u001b[0m \u001b[0;34m\u001b[0m\u001b[0m\n\u001b[1;32m   2831\u001b[0m   \u001b[0;34m@\u001b[0m\u001b[0mproperty\u001b[0m\u001b[0;34m\u001b[0m\u001b[0;34m\u001b[0m\u001b[0m\n",
      "\u001b[0;32m~/anaconda3/envs/kubig-venv/lib/python3.8/site-packages/tensorflow/python/eager/function.py\u001b[0m in \u001b[0;36m_filtered_call\u001b[0;34m(self, args, kwargs, cancellation_manager)\u001b[0m\n\u001b[1;32m   1841\u001b[0m       \u001b[0;31m`\u001b[0m\u001b[0margs\u001b[0m\u001b[0;31m`\u001b[0m \u001b[0;32mand\u001b[0m\u001b[0;31m \u001b[0m\u001b[0;31m`\u001b[0m\u001b[0mkwargs\u001b[0m\u001b[0;31m`\u001b[0m\u001b[0;34m.\u001b[0m\u001b[0;34m\u001b[0m\u001b[0;34m\u001b[0m\u001b[0m\n\u001b[1;32m   1842\u001b[0m     \"\"\"\n\u001b[0;32m-> 1843\u001b[0;31m     return self._call_flat(\n\u001b[0m\u001b[1;32m   1844\u001b[0m         [t for t in nest.flatten((args, kwargs), expand_composites=True)\n\u001b[1;32m   1845\u001b[0m          if isinstance(t, (ops.Tensor,\n",
      "\u001b[0;32m~/anaconda3/envs/kubig-venv/lib/python3.8/site-packages/tensorflow/python/eager/function.py\u001b[0m in \u001b[0;36m_call_flat\u001b[0;34m(self, args, captured_inputs, cancellation_manager)\u001b[0m\n\u001b[1;32m   1921\u001b[0m         and executing_eagerly):\n\u001b[1;32m   1922\u001b[0m       \u001b[0;31m# No tape is watching; skip to running the function.\u001b[0m\u001b[0;34m\u001b[0m\u001b[0;34m\u001b[0m\u001b[0;34m\u001b[0m\u001b[0m\n\u001b[0;32m-> 1923\u001b[0;31m       return self._build_call_outputs(self._inference_function.call(\n\u001b[0m\u001b[1;32m   1924\u001b[0m           ctx, args, cancellation_manager=cancellation_manager))\n\u001b[1;32m   1925\u001b[0m     forward_backward = self._select_forward_and_backward_functions(\n",
      "\u001b[0;32m~/anaconda3/envs/kubig-venv/lib/python3.8/site-packages/tensorflow/python/eager/function.py\u001b[0m in \u001b[0;36mcall\u001b[0;34m(self, ctx, args, cancellation_manager)\u001b[0m\n\u001b[1;32m    543\u001b[0m       \u001b[0;32mwith\u001b[0m \u001b[0m_InterpolateFunctionError\u001b[0m\u001b[0;34m(\u001b[0m\u001b[0mself\u001b[0m\u001b[0;34m)\u001b[0m\u001b[0;34m:\u001b[0m\u001b[0;34m\u001b[0m\u001b[0;34m\u001b[0m\u001b[0m\n\u001b[1;32m    544\u001b[0m         \u001b[0;32mif\u001b[0m \u001b[0mcancellation_manager\u001b[0m \u001b[0;32mis\u001b[0m \u001b[0;32mNone\u001b[0m\u001b[0;34m:\u001b[0m\u001b[0;34m\u001b[0m\u001b[0;34m\u001b[0m\u001b[0m\n\u001b[0;32m--> 545\u001b[0;31m           outputs = execute.execute(\n\u001b[0m\u001b[1;32m    546\u001b[0m               \u001b[0mstr\u001b[0m\u001b[0;34m(\u001b[0m\u001b[0mself\u001b[0m\u001b[0;34m.\u001b[0m\u001b[0msignature\u001b[0m\u001b[0;34m.\u001b[0m\u001b[0mname\u001b[0m\u001b[0;34m)\u001b[0m\u001b[0;34m,\u001b[0m\u001b[0;34m\u001b[0m\u001b[0;34m\u001b[0m\u001b[0m\n\u001b[1;32m    547\u001b[0m               \u001b[0mnum_outputs\u001b[0m\u001b[0;34m=\u001b[0m\u001b[0mself\u001b[0m\u001b[0;34m.\u001b[0m\u001b[0m_num_outputs\u001b[0m\u001b[0;34m,\u001b[0m\u001b[0;34m\u001b[0m\u001b[0;34m\u001b[0m\u001b[0m\n",
      "\u001b[0;32m~/anaconda3/envs/kubig-venv/lib/python3.8/site-packages/tensorflow/python/eager/execute.py\u001b[0m in \u001b[0;36mquick_execute\u001b[0;34m(op_name, num_outputs, inputs, attrs, ctx, name)\u001b[0m\n\u001b[1;32m     57\u001b[0m   \u001b[0;32mtry\u001b[0m\u001b[0;34m:\u001b[0m\u001b[0;34m\u001b[0m\u001b[0;34m\u001b[0m\u001b[0m\n\u001b[1;32m     58\u001b[0m     \u001b[0mctx\u001b[0m\u001b[0;34m.\u001b[0m\u001b[0mensure_initialized\u001b[0m\u001b[0;34m(\u001b[0m\u001b[0;34m)\u001b[0m\u001b[0;34m\u001b[0m\u001b[0;34m\u001b[0m\u001b[0m\n\u001b[0;32m---> 59\u001b[0;31m     tensors = pywrap_tfe.TFE_Py_Execute(ctx._handle, device_name, op_name,\n\u001b[0m\u001b[1;32m     60\u001b[0m                                         inputs, attrs, num_outputs)\n\u001b[1;32m     61\u001b[0m   \u001b[0;32mexcept\u001b[0m \u001b[0mcore\u001b[0m\u001b[0;34m.\u001b[0m\u001b[0m_NotOkStatusException\u001b[0m \u001b[0;32mas\u001b[0m \u001b[0me\u001b[0m\u001b[0;34m:\u001b[0m\u001b[0;34m\u001b[0m\u001b[0;34m\u001b[0m\u001b[0m\n",
      "\u001b[0;31mResourceExhaustedError\u001b[0m:  OOM when allocating tensor with shape[300,300] and type float on /job:localhost/replica:0/task:0/device:GPU:0 by allocator GPU_0_bfc\n\t [[{{node sequential_8/bidirectional_1/forward_lstm_2/while/body/_1/sequential_8/bidirectional_1/forward_lstm_2/while/lstm_cell_5/strided_slice}}]]\nHint: If you want to see a list of allocated tensors when OOM happens, add report_tensor_allocations_upon_oom to RunOptions for current allocation info.\n [Op:__inference_train_function_37296]\n\nFunction call stack:\ntrain_function\n"
     ]
    }
   ],
   "source": [
    "# A simple bidirectional LSTM with glove embeddings and two dense layers\n",
    "model = Sequential()\n",
    "model.add(Embedding(len(word_index) + 1,\n",
    "                     300,\n",
    "                     weights=[embedding_matrix],\n",
    "                     input_length=max_len,\n",
    "                     trainable=False))\n",
    "model.add(SpatialDropout1D(0.3))\n",
    "model.add(Bidirectional(LSTM(300, dropout=0.3, recurrent_dropout=0.3)))\n",
    "\n",
    "model.add(Dense(1024, activation='relu'))\n",
    "model.add(Dropout(0.8))\n",
    "\n",
    "model.add(Dense(1024, activation='relu'))\n",
    "model.add(Dropout(0.8))\n",
    "\n",
    "model.add(Dense(2))\n",
    "model.add(Activation('softmax'))\n",
    "model.compile(loss='binary_crossentropy', optimizer='adam')\n",
    "\n",
    "# Fit the model with early stopping callback\n",
    "earlystop = EarlyStopping(monitor='val_loss', min_delta=0, patience=3, verbose=0, mode='auto')\n",
    "model.fit(xtrain_pad, y=ytrain_enc, batch_size=512, epochs=100, \n",
    "          verbose=1, validation_data=(xvalid_pad, yvalid_enc), callbacks=[earlystop])"
   ]
  },
  {
   "cell_type": "markdown",
   "metadata": {},
   "source": [
    "### - GRU"
   ]
  },
  {
   "cell_type": "code",
   "execution_count": null,
   "metadata": {},
   "outputs": [],
   "source": [
    "# GRU with glove embeddings and two dense layers\n",
    "model = Sequential()\n",
    "model.add(Embedding(len(word_index) + 1,\n",
    "                     300,\n",
    "                     weights=[embedding_matrix],\n",
    "                     input_length=max_len,\n",
    "                     trainable=False))\n",
    "model.add(SpatialDropout1D(0.3))\n",
    "model.add(GRU(300, dropout=0.3, recurrent_dropout=0.3, return_sequences=True))\n",
    "model.add(GRU(300, dropout=0.3, recurrent_dropout=0.3))\n",
    "\n",
    "model.add(Dense(1024, activation='relu'))\n",
    "model.add(Dropout(0.8))\n",
    "\n",
    "model.add(Dense(1024, activation='relu'))\n",
    "model.add(Dropout(0.8))\n",
    "\n",
    "model.add(Dense(2))\n",
    "model.add(Activation('softmax'))\n",
    "model.compile(loss='binary_crossentropy', optimizer='adam')\n",
    "\n",
    "# Fit the model with early stopping callback\n",
    "earlystop = EarlyStopping(monitor='val_loss', min_delta=0, patience=3, verbose=0, mode='auto')\n",
    "model.fit(xtrain_pad, y=ytrain_enc, batch_size=512, epochs=100, \n",
    "          verbose=1, validation_data=(xvalid_pad, yvalid_enc), callbacks=[earlystop])"
   ]
  },
  {
   "cell_type": "markdown",
   "metadata": {},
   "source": [
    "## Visualization - model comparision "
   ]
  },
  {
   "cell_type": "code",
   "execution_count": 27,
   "metadata": {},
   "outputs": [
    {
     "data": {
      "image/png": "[encoded data removed]",
      "text/plain": [
       "<Figure size 432x288 with 1 Axes>"
      ]
     },
     "metadata": {
      "needs_background": "light"
     },
     "output_type": "display_data"
    }
   ],
   "source": [
    "cmp = 0\n",
    "colors = ['navy', 'royalblue', 'brown', 'indianred', 'gold', 'darkgreen', 'darkcyan', 'springgreen']\n",
    "for model, predicted in prediction.items():\n",
    "    false_positive_rate, true_positive_rate, thresholds = roc_curve(y_test, predicted)\n",
    "    roc_auc = auc(false_positive_rate, true_positive_rate)\n",
    "    plt.plot(false_positive_rate, true_positive_rate, colors[cmp], label='%s: AUC %0.2f'% (model,roc_auc))\n",
    "    cmp += 1\n",
    "\n",
    "plt.title('Classifiers comparaison with ROC')\n",
    "plt.legend(loc='lower right')\n",
    "plt.plot([0,1],[0,1],'r--')\n",
    "plt.xlim([-0.1,1.2])\n",
    "plt.ylim([-0.1,1.2])\n",
    "plt.ylabel('True Positive Rate')\n",
    "plt.xlabel('False Positive Rate')\n",
    "plt.rc('figure', figsize=(12, 8))\n",
    "plt.show()"
   ]
  },
  {
   "cell_type": "code",
   "execution_count": 28,
   "metadata": {},
   "outputs": [
    {
     "data": {
      "text/plain": [
       "0.9039792387543253"
      ]
     },
     "execution_count": 28,
     "metadata": {},
     "output_type": "execute_result"
    }
   ],
   "source": [
    "accuracy_score(y_test, prediction['Logistic'])"
   ]
  },
  {
   "cell_type": "code",
   "execution_count": 29,
   "metadata": {},
   "outputs": [
    {
     "data": {
      "text/plain": [
       "0.893598615916955"
      ]
     },
     "execution_count": 29,
     "metadata": {},
     "output_type": "execute_result"
    }
   ],
   "source": [
    "accuracy_score(y_test, prediction['Naive Bayes'])"
   ]
  },
  {
   "cell_type": "code",
   "execution_count": 30,
   "metadata": {},
   "outputs": [
    {
     "data": {
      "text/plain": [
       "0.9013840830449827"
      ]
     },
     "execution_count": 30,
     "metadata": {},
     "output_type": "execute_result"
    }
   ],
   "source": [
    "accuracy_score(y_test, prediction['XGboost'])"
   ]
  },
  {
   "cell_type": "code",
   "execution_count": 31,
   "metadata": {},
   "outputs": [
    {
     "data": {
      "text/plain": [
       "0.8996539792387543"
      ]
     },
     "execution_count": 31,
     "metadata": {},
     "output_type": "execute_result"
    }
   ],
   "source": [
    "accuracy_score(y_test, prediction['XGboost_TFIDF'])"
   ]
  },
  {
   "cell_type": "code",
   "execution_count": null,
   "metadata": {},
   "outputs": [],
   "source": []
  },
  {
   "cell_type": "markdown",
   "metadata": {},
   "source": [
    "## Visualization - coefficient "
   ]
  },
  {
   "cell_type": "markdown",
   "metadata": {},
   "source": [
    "### - Naive Bayes"
   ]
  },
  {
   "cell_type": "code",
   "execution_count": 32,
   "metadata": {},
   "outputs": [
    {
     "data": {
      "text/html": [
       "<div>\n",
       "<style scoped>\n",
       "    .dataframe tbody tr th:only-of-type {\n",
       "        vertical-align: middle;\n",
       "    }\n",
       "\n",
       "    .dataframe tbody tr th {\n",
       "        vertical-align: top;\n",
       "    }\n",
       "\n",
       "    .dataframe thead th {\n",
       "        text-align: right;\n",
       "    }\n",
       "</style>\n",
       "<table border=\"1\" class=\"dataframe\">\n",
       "  <thead>\n",
       "    <tr style=\"text-align: right;\">\n",
       "      <th></th>\n",
       "      <th>word</th>\n",
       "      <th>coefficient</th>\n",
       "    </tr>\n",
       "  </thead>\n",
       "  <tbody>\n",
       "    <tr>\n",
       "      <th>40073</th>\n",
       "      <td>seaweed</td>\n",
       "      <td>-4.710467</td>\n",
       "    </tr>\n",
       "    <tr>\n",
       "      <th>42659</th>\n",
       "      <td>snack</td>\n",
       "      <td>-4.792980</td>\n",
       "    </tr>\n",
       "    <tr>\n",
       "      <th>17284</th>\n",
       "      <td>flavor</td>\n",
       "      <td>-5.078421</td>\n",
       "    </tr>\n",
       "    <tr>\n",
       "      <th>43322</th>\n",
       "      <td>snacks</td>\n",
       "      <td>-5.166790</td>\n",
       "    </tr>\n",
       "    <tr>\n",
       "      <th>47195</th>\n",
       "      <td>taste</td>\n",
       "      <td>-5.296602</td>\n",
       "    </tr>\n",
       "    <tr>\n",
       "      <th>51135</th>\n",
       "      <td>try</td>\n",
       "      <td>-5.585935</td>\n",
       "    </tr>\n",
       "    <tr>\n",
       "      <th>40446</th>\n",
       "      <td>seaweed snacks</td>\n",
       "      <td>-5.739260</td>\n",
       "    </tr>\n",
       "    <tr>\n",
       "      <th>50792</th>\n",
       "      <td>tried</td>\n",
       "      <td>-5.758716</td>\n",
       "    </tr>\n",
       "    <tr>\n",
       "      <th>21589</th>\n",
       "      <td>healthy</td>\n",
       "      <td>-5.764627</td>\n",
       "    </tr>\n",
       "    <tr>\n",
       "      <th>11328</th>\n",
       "      <td>delicious</td>\n",
       "      <td>-5.774558</td>\n",
       "    </tr>\n",
       "    <tr>\n",
       "      <th>35225</th>\n",
       "      <td>product</td>\n",
       "      <td>-5.774558</td>\n",
       "    </tr>\n",
       "    <tr>\n",
       "      <th>38618</th>\n",
       "      <td>salt</td>\n",
       "      <td>-5.802900</td>\n",
       "    </tr>\n",
       "    <tr>\n",
       "      <th>18019</th>\n",
       "      <td>flavors</td>\n",
       "      <td>-5.929707</td>\n",
       "    </tr>\n",
       "    <tr>\n",
       "      <th>13024</th>\n",
       "      <td>eat</td>\n",
       "      <td>-5.970140</td>\n",
       "    </tr>\n",
       "    <tr>\n",
       "      <th>5818</th>\n",
       "      <td>buy</td>\n",
       "      <td>-5.977449</td>\n",
       "    </tr>\n",
       "    <tr>\n",
       "      <th>39863</th>\n",
       "      <td>sea</td>\n",
       "      <td>-6.012278</td>\n",
       "    </tr>\n",
       "    <tr>\n",
       "      <th>38972</th>\n",
       "      <td>salty</td>\n",
       "      <td>-6.025017</td>\n",
       "    </tr>\n",
       "    <tr>\n",
       "      <th>48105</th>\n",
       "      <td>tasty</td>\n",
       "      <td>-6.130378</td>\n",
       "    </tr>\n",
       "    <tr>\n",
       "      <th>7450</th>\n",
       "      <td>chips</td>\n",
       "      <td>-6.147619</td>\n",
       "    </tr>\n",
       "    <tr>\n",
       "      <th>26035</th>\n",
       "      <td>little</td>\n",
       "      <td>-6.150522</td>\n",
       "    </tr>\n",
       "  </tbody>\n",
       "</table>\n",
       "</div>"
      ],
      "text/plain": [
       "                 word  coefficient\n",
       "40073         seaweed    -4.710467\n",
       "42659           snack    -4.792980\n",
       "17284          flavor    -5.078421\n",
       "43322          snacks    -5.166790\n",
       "47195           taste    -5.296602\n",
       "51135             try    -5.585935\n",
       "40446  seaweed snacks    -5.739260\n",
       "50792           tried    -5.758716\n",
       "21589         healthy    -5.764627\n",
       "11328       delicious    -5.774558\n",
       "35225         product    -5.774558\n",
       "38618            salt    -5.802900\n",
       "18019         flavors    -5.929707\n",
       "13024             eat    -5.970140\n",
       "5818              buy    -5.977449\n",
       "39863             sea    -6.012278\n",
       "38972           salty    -6.025017\n",
       "48105           tasty    -6.130378\n",
       "7450            chips    -6.147619\n",
       "26035          little    -6.150522"
      ]
     },
     "execution_count": 32,
     "metadata": {},
     "output_type": "execute_result"
    }
   ],
   "source": [
    "mul = MultinomialNB()\n",
    "mul_result = mul.fit(xtrain_ctv, y_train)\n",
    "\n",
    "features = ctv.get_feature_names()\n",
    "feature_coefs = pd.DataFrame(\n",
    "    data = list(zip(features, mul_result.coef_[0])),\n",
    "    columns = ['word', 'coefficient'])\n",
    "\n",
    "feature_coefs = feature_coefs.sort_values(['coefficient', 'word'], ascending = [0, 1])\n",
    "feature_coefs.head(20)"
   ]
  },
  {
   "cell_type": "code",
   "execution_count": 33,
   "metadata": {},
   "outputs": [
    {
     "name": "stdout",
     "output_type": "stream",
     "text": [
      "-Top 20 positive-\n",
      "           word  coefficient\n",
      "        seaweed    -4.710467\n",
      "          snack    -4.792980\n",
      "         flavor    -5.078421\n",
      "         snacks    -5.166790\n",
      "          taste    -5.296602\n",
      "            try    -5.585935\n",
      " seaweed snacks    -5.739260\n",
      "          tried    -5.758716\n",
      "        healthy    -5.764627\n",
      "      delicious    -5.774558\n",
      "        product    -5.774558\n",
      "           salt    -5.802900\n",
      "        flavors    -5.929707\n",
      "            eat    -5.970140\n",
      "            buy    -5.977449\n",
      "            sea    -6.012278\n",
      "          salty    -6.025017\n",
      "          tasty    -6.130378\n",
      "          chips    -6.147619\n",
      "         little    -6.150522\n",
      "\n",
      "-Top 20 negative-\n",
      "                word  coefficient\n",
      "      yucky crackers   -11.991164\n",
      "                 yuk   -11.991164\n",
      "             yuk buy   -11.991164\n",
      "           yuk never   -11.991164\n",
      "               yumin   -11.991164\n",
      "   yumin tummytasted   -11.991164\n",
      "            yummmmmy   -11.991164\n",
      "             yuppies   -11.991164\n",
      " yuppies millennials   -11.991164\n",
      "         zero amazon   -11.991164\n",
      "         zero effect   -11.991164\n",
      "          zero grams   -11.991164\n",
      "      zero reactions   -11.991164\n",
      "      zero saturated   -11.991164\n",
      "           zero self   -11.991164\n",
      "          zero stars   -11.991164\n",
      "         zero wanted   -11.991164\n",
      "    ziplock sandwich   -11.991164\n",
      "              zipper   -11.991164\n",
      "        zipper kinda   -11.991164\n"
     ]
    }
   ],
   "source": [
    "print('-Top 20 positive-')\n",
    "print(feature_coefs.head(20).to_string(index=False))\n",
    "print('')\n",
    "print('-Top 20 negative-')        \n",
    "print(feature_coefs.tail(20).to_string(index=False)) "
   ]
  },
  {
   "cell_type": "markdown",
   "metadata": {},
   "source": [
    "### - Logistic regression"
   ]
  },
  {
   "cell_type": "code",
   "execution_count": 430,
   "metadata": {},
   "outputs": [
    {
     "data": {
      "text/html": [
       "<div>\n",
       "<style scoped>\n",
       "    .dataframe tbody tr th:only-of-type {\n",
       "        vertical-align: middle;\n",
       "    }\n",
       "\n",
       "    .dataframe tbody tr th {\n",
       "        vertical-align: top;\n",
       "    }\n",
       "\n",
       "    .dataframe thead th {\n",
       "        text-align: right;\n",
       "    }\n",
       "</style>\n",
       "<table border=\"1\" class=\"dataframe\">\n",
       "  <thead>\n",
       "    <tr style=\"text-align: right;\">\n",
       "      <th></th>\n",
       "      <th>word</th>\n",
       "      <th>coefficient</th>\n",
       "    </tr>\n",
       "  </thead>\n",
       "  <tbody>\n",
       "    <tr>\n",
       "      <th>11328</th>\n",
       "      <td>delicious</td>\n",
       "      <td>1.555955</td>\n",
       "    </tr>\n",
       "    <tr>\n",
       "      <th>48105</th>\n",
       "      <td>tasty</td>\n",
       "      <td>1.193890</td>\n",
       "    </tr>\n",
       "    <tr>\n",
       "      <th>42659</th>\n",
       "      <td>snack</td>\n",
       "      <td>1.185757</td>\n",
       "    </tr>\n",
       "    <tr>\n",
       "      <th>16094</th>\n",
       "      <td>favorite</td>\n",
       "      <td>1.116974</td>\n",
       "    </tr>\n",
       "    <tr>\n",
       "      <th>6224</th>\n",
       "      <td>calories</td>\n",
       "      <td>1.033894</td>\n",
       "    </tr>\n",
       "    <tr>\n",
       "      <th>44237</th>\n",
       "      <td>son</td>\n",
       "      <td>1.008875</td>\n",
       "    </tr>\n",
       "    <tr>\n",
       "      <th>24337</th>\n",
       "      <td>kids</td>\n",
       "      <td>0.980758</td>\n",
       "    </tr>\n",
       "    <tr>\n",
       "      <th>404</th>\n",
       "      <td>addictive</td>\n",
       "      <td>0.967027</td>\n",
       "    </tr>\n",
       "    <tr>\n",
       "      <th>10864</th>\n",
       "      <td>daughter</td>\n",
       "      <td>0.958883</td>\n",
       "    </tr>\n",
       "    <tr>\n",
       "      <th>15973</th>\n",
       "      <td>fast</td>\n",
       "      <td>0.958226</td>\n",
       "    </tr>\n",
       "    <tr>\n",
       "      <th>18019</th>\n",
       "      <td>flavors</td>\n",
       "      <td>0.955636</td>\n",
       "    </tr>\n",
       "    <tr>\n",
       "      <th>12959</th>\n",
       "      <td>easy</td>\n",
       "      <td>0.934870</td>\n",
       "    </tr>\n",
       "    <tr>\n",
       "      <th>3655</th>\n",
       "      <td>bbq</td>\n",
       "      <td>0.849230</td>\n",
       "    </tr>\n",
       "    <tr>\n",
       "      <th>24111</th>\n",
       "      <td>keep</td>\n",
       "      <td>0.816711</td>\n",
       "    </tr>\n",
       "    <tr>\n",
       "      <th>52547</th>\n",
       "      <td>value</td>\n",
       "      <td>0.815432</td>\n",
       "    </tr>\n",
       "    <tr>\n",
       "      <th>4114</th>\n",
       "      <td>bit</td>\n",
       "      <td>0.806317</td>\n",
       "    </tr>\n",
       "    <tr>\n",
       "      <th>10409</th>\n",
       "      <td>crunchy</td>\n",
       "      <td>0.796494</td>\n",
       "    </tr>\n",
       "    <tr>\n",
       "      <th>14159</th>\n",
       "      <td>enough</td>\n",
       "      <td>0.790675</td>\n",
       "    </tr>\n",
       "    <tr>\n",
       "      <th>340</th>\n",
       "      <td>addicted</td>\n",
       "      <td>0.777004</td>\n",
       "    </tr>\n",
       "    <tr>\n",
       "      <th>21589</th>\n",
       "      <td>healthy</td>\n",
       "      <td>0.731920</td>\n",
       "    </tr>\n",
       "  </tbody>\n",
       "</table>\n",
       "</div>"
      ],
      "text/plain": [
       "            word  coefficient\n",
       "11328  delicious     1.555955\n",
       "48105      tasty     1.193890\n",
       "42659      snack     1.185757\n",
       "16094   favorite     1.116974\n",
       "6224    calories     1.033894\n",
       "44237        son     1.008875\n",
       "24337       kids     0.980758\n",
       "404    addictive     0.967027\n",
       "10864   daughter     0.958883\n",
       "15973       fast     0.958226\n",
       "18019    flavors     0.955636\n",
       "12959       easy     0.934870\n",
       "3655         bbq     0.849230\n",
       "24111       keep     0.816711\n",
       "52547      value     0.815432\n",
       "4114         bit     0.806317\n",
       "10409    crunchy     0.796494\n",
       "14159     enough     0.790675\n",
       "340     addicted     0.777004\n",
       "21589    healthy     0.731920"
      ]
     },
     "execution_count": 430,
     "metadata": {},
     "output_type": "execute_result"
    }
   ],
   "source": [
    "log = LogisticRegression(C=1.0)\n",
    "log_result = log.fit(xtrain_ctv, y_train)\n",
    "\n",
    "features = ctv.get_feature_names()\n",
    "feature_coefs = pd.DataFrame(\n",
    "    data = list(zip(features, log_result.coef_[0])),\n",
    "    columns = ['word', 'coefficient'])\n",
    "\n",
    "feature_coefs = feature_coefs.sort_values(['coefficient', 'word'], ascending = [0, 1])\n",
    "feature_coefs.head(20)"
   ]
  },
  {
   "cell_type": "code",
   "execution_count": 431,
   "metadata": {},
   "outputs": [
    {
     "name": "stdout",
     "output_type": "stream",
     "text": [
      "-Top 20 positive-\n",
      "      word  coefficient\n",
      " delicious     1.555955\n",
      "     tasty     1.193890\n",
      "     snack     1.185757\n",
      "  favorite     1.116974\n",
      "  calories     1.033894\n",
      "       son     1.008875\n",
      "      kids     0.980758\n",
      " addictive     0.967027\n",
      "  daughter     0.958883\n",
      "      fast     0.958226\n",
      "   flavors     0.955636\n",
      "      easy     0.934870\n",
      "       bbq     0.849230\n",
      "      keep     0.816711\n",
      "     value     0.815432\n",
      "       bit     0.806317\n",
      "   crunchy     0.796494\n",
      "    enough     0.790675\n",
      "  addicted     0.777004\n",
      "   healthy     0.731920\n",
      "\n",
      "-Top 20 negative-\n",
      "       word  coefficient\n",
      "      fishy    -0.962678\n",
      "      boxes    -0.978858\n",
      " flavor buy    -0.979575\n",
      "     tasted    -1.017916\n",
      "  cardboard    -1.085753\n",
      "    expired    -1.106814\n",
      "        fan    -1.123693\n",
      "       hard    -1.125791\n",
      "      threw    -1.133133\n",
      "   received    -1.175385\n",
      "    crushed    -1.223778\n",
      "       fish    -1.238701\n",
      " disgusting    -1.249940\n",
      "        box    -1.253389\n",
      "     return    -1.269080\n",
      "      sorry    -1.362823\n",
      "      nasty    -1.580479\n",
      "     crumbs    -1.617004\n",
      "       yuck    -1.673202\n",
      "      stale    -1.810039\n"
     ]
    }
   ],
   "source": [
    "print('-Top 20 positive-')\n",
    "print(feature_coefs.head(20).to_string(index=False))\n",
    "print('')\n",
    "print('-Top 20 negative-')        \n",
    "print(feature_coefs.tail(20).to_string(index=False)) "
   ]
  },
  {
   "cell_type": "markdown",
   "metadata": {},
   "source": [
    "### - xgboost"
   ]
  },
  {
   "cell_type": "code",
   "execution_count": 433,
   "metadata": {},
   "outputs": [
    {
     "data": {
      "text/html": [
       "<div>\n",
       "<style scoped>\n",
       "    .dataframe tbody tr th:only-of-type {\n",
       "        vertical-align: middle;\n",
       "    }\n",
       "\n",
       "    .dataframe tbody tr th {\n",
       "        vertical-align: top;\n",
       "    }\n",
       "\n",
       "    .dataframe thead th {\n",
       "        text-align: right;\n",
       "    }\n",
       "</style>\n",
       "<table border=\"1\" class=\"dataframe\">\n",
       "  <thead>\n",
       "    <tr style=\"text-align: right;\">\n",
       "      <th></th>\n",
       "      <th>word</th>\n",
       "      <th>coefficient</th>\n",
       "    </tr>\n",
       "  </thead>\n",
       "  <tbody>\n",
       "    <tr>\n",
       "      <th>11328</th>\n",
       "      <td>delicious</td>\n",
       "      <td>1.555955</td>\n",
       "    </tr>\n",
       "    <tr>\n",
       "      <th>48105</th>\n",
       "      <td>tasty</td>\n",
       "      <td>1.193890</td>\n",
       "    </tr>\n",
       "    <tr>\n",
       "      <th>42659</th>\n",
       "      <td>snack</td>\n",
       "      <td>1.185757</td>\n",
       "    </tr>\n",
       "    <tr>\n",
       "      <th>16094</th>\n",
       "      <td>favorite</td>\n",
       "      <td>1.116974</td>\n",
       "    </tr>\n",
       "    <tr>\n",
       "      <th>6224</th>\n",
       "      <td>calories</td>\n",
       "      <td>1.033894</td>\n",
       "    </tr>\n",
       "    <tr>\n",
       "      <th>44237</th>\n",
       "      <td>son</td>\n",
       "      <td>1.008875</td>\n",
       "    </tr>\n",
       "    <tr>\n",
       "      <th>24337</th>\n",
       "      <td>kids</td>\n",
       "      <td>0.980758</td>\n",
       "    </tr>\n",
       "    <tr>\n",
       "      <th>404</th>\n",
       "      <td>addictive</td>\n",
       "      <td>0.967027</td>\n",
       "    </tr>\n",
       "    <tr>\n",
       "      <th>10864</th>\n",
       "      <td>daughter</td>\n",
       "      <td>0.958883</td>\n",
       "    </tr>\n",
       "    <tr>\n",
       "      <th>15973</th>\n",
       "      <td>fast</td>\n",
       "      <td>0.958226</td>\n",
       "    </tr>\n",
       "    <tr>\n",
       "      <th>18019</th>\n",
       "      <td>flavors</td>\n",
       "      <td>0.955636</td>\n",
       "    </tr>\n",
       "    <tr>\n",
       "      <th>12959</th>\n",
       "      <td>easy</td>\n",
       "      <td>0.934870</td>\n",
       "    </tr>\n",
       "    <tr>\n",
       "      <th>3655</th>\n",
       "      <td>bbq</td>\n",
       "      <td>0.849230</td>\n",
       "    </tr>\n",
       "    <tr>\n",
       "      <th>24111</th>\n",
       "      <td>keep</td>\n",
       "      <td>0.816711</td>\n",
       "    </tr>\n",
       "    <tr>\n",
       "      <th>52547</th>\n",
       "      <td>value</td>\n",
       "      <td>0.815432</td>\n",
       "    </tr>\n",
       "    <tr>\n",
       "      <th>4114</th>\n",
       "      <td>bit</td>\n",
       "      <td>0.806317</td>\n",
       "    </tr>\n",
       "    <tr>\n",
       "      <th>10409</th>\n",
       "      <td>crunchy</td>\n",
       "      <td>0.796494</td>\n",
       "    </tr>\n",
       "    <tr>\n",
       "      <th>14159</th>\n",
       "      <td>enough</td>\n",
       "      <td>0.790675</td>\n",
       "    </tr>\n",
       "    <tr>\n",
       "      <th>340</th>\n",
       "      <td>addicted</td>\n",
       "      <td>0.777004</td>\n",
       "    </tr>\n",
       "    <tr>\n",
       "      <th>21589</th>\n",
       "      <td>healthy</td>\n",
       "      <td>0.731920</td>\n",
       "    </tr>\n",
       "  </tbody>\n",
       "</table>\n",
       "</div>"
      ],
      "text/plain": [
       "            word  coefficient\n",
       "11328  delicious     1.555955\n",
       "48105      tasty     1.193890\n",
       "42659      snack     1.185757\n",
       "16094   favorite     1.116974\n",
       "6224    calories     1.033894\n",
       "44237        son     1.008875\n",
       "24337       kids     0.980758\n",
       "404    addictive     0.967027\n",
       "10864   daughter     0.958883\n",
       "15973       fast     0.958226\n",
       "18019    flavors     0.955636\n",
       "12959       easy     0.934870\n",
       "3655         bbq     0.849230\n",
       "24111       keep     0.816711\n",
       "52547      value     0.815432\n",
       "4114         bit     0.806317\n",
       "10409    crunchy     0.796494\n",
       "14159     enough     0.790675\n",
       "340     addicted     0.777004\n",
       "21589    healthy     0.731920"
      ]
     },
     "execution_count": 433,
     "metadata": {},
     "output_type": "execute_result"
    }
   ],
   "source": [
    "# Fitting a simple xgboost on Counts\n",
    "xgb = xgb.XGBClassifier(max_depth=7, n_estimators=200, colsample_bytree=0.8, \n",
    "                        subsample=0.8, nthread=10, learning_rate=0.1)\n",
    "xgb_result = xgb.fit(xtrain_ctv.tocsc(), y_train)\n",
    "\n",
    "features = ctv.get_feature_names()\n",
    "feature_coefs = pd.DataFrame(\n",
    "    data = list(zip(features, log_result.coef_[0])),\n",
    "    columns = ['word', 'coefficient'])\n",
    "\n",
    "feature_coefs = feature_coefs.sort_values(['coefficient', 'word'], ascending = [0, 1])\n",
    "feature_coefs.head(20)"
   ]
  },
  {
   "cell_type": "code",
   "execution_count": 434,
   "metadata": {},
   "outputs": [
    {
     "name": "stdout",
     "output_type": "stream",
     "text": [
      "-Top 20 positive-\n",
      "      word  coefficient\n",
      " delicious     1.555955\n",
      "     tasty     1.193890\n",
      "     snack     1.185757\n",
      "  favorite     1.116974\n",
      "  calories     1.033894\n",
      "       son     1.008875\n",
      "      kids     0.980758\n",
      " addictive     0.967027\n",
      "  daughter     0.958883\n",
      "      fast     0.958226\n",
      "   flavors     0.955636\n",
      "      easy     0.934870\n",
      "       bbq     0.849230\n",
      "      keep     0.816711\n",
      "     value     0.815432\n",
      "       bit     0.806317\n",
      "   crunchy     0.796494\n",
      "    enough     0.790675\n",
      "  addicted     0.777004\n",
      "   healthy     0.731920\n",
      "\n",
      "-Top 20 negative-\n",
      "       word  coefficient\n",
      "      fishy    -0.962678\n",
      "      boxes    -0.978858\n",
      " flavor buy    -0.979575\n",
      "     tasted    -1.017916\n",
      "  cardboard    -1.085753\n",
      "    expired    -1.106814\n",
      "        fan    -1.123693\n",
      "       hard    -1.125791\n",
      "      threw    -1.133133\n",
      "   received    -1.175385\n",
      "    crushed    -1.223778\n",
      "       fish    -1.238701\n",
      " disgusting    -1.249940\n",
      "        box    -1.253389\n",
      "     return    -1.269080\n",
      "      sorry    -1.362823\n",
      "      nasty    -1.580479\n",
      "     crumbs    -1.617004\n",
      "       yuck    -1.673202\n",
      "      stale    -1.810039\n"
     ]
    }
   ],
   "source": [
    "print('-Top 20 positive-')\n",
    "print(feature_coefs.head(20).to_string(index=False))\n",
    "print('')\n",
    "print('-Top 20 negative-')        \n",
    "print(feature_coefs.tail(20).to_string(index=False)) "
   ]
  },
  {
   "cell_type": "code",
   "execution_count": null,
   "metadata": {},
   "outputs": [],
   "source": []
  }
 ],
 "metadata": {
  "kernelspec": {
   "display_name": "Python 3",
   "language": "python",
   "name": "python3"
  },
  "language_info": {
   "codemirror_mode": {
    "name": "ipython",
    "version": 3
   },
   "file_extension": ".py",
   "mimetype": "text/x-python",
   "name": "python",
   "nbconvert_exporter": "python",
   "pygments_lexer": "ipython3",
   "version": "3.8.2"
  }
 },
 "nbformat": 4,
 "nbformat_minor": 4
}
